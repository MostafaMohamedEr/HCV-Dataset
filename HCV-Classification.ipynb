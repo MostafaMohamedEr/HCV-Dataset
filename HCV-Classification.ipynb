{
 "cells": [
  {
   "cell_type": "markdown",
   "metadata": {},
   "source": [
    "# HCV Dataset"
   ]
  },
  {
   "cell_type": "code",
   "execution_count": 1,
   "metadata": {},
   "outputs": [],
   "source": [
    "#imports\n",
    "import numpy as np\n",
    "import pandas as pd\n",
    "import matplotlib.pyplot as plt\n",
    "from sklearn.preprocessing import StandardScaler,LabelEncoder\n",
    "from sklearn.model_selection import train_test_split,KFold,cross_val_score,learning_curve,GridSearchCV\n",
    "from sklearn.ensemble import RandomForestClassifier,IsolationForest,RandomForestRegressor,AdaBoostClassifier,VotingClassifier\n",
    "from sklearn.metrics import accuracy_score,confusion_matrix,f1_score,plot_confusion_matrix,precision_recall_fscore_support\\\n",
    ",mean_squared_error,matthews_corrcoef,roc_curve,balanced_accuracy_score\n",
    "from sklearn.pipeline import Pipeline\n",
    "from sklearn.cluster import KMeans\n",
    "from sklearn.neighbors import LocalOutlierFactor,KNeighborsClassifier\n",
    "from sklearn.decomposition import PCA  \n",
    "from sklearn.linear_model import LogisticRegression\n",
    "from sklearn.naive_bayes import GaussianNB\n",
    "from sklearn.svm import SVC\n",
    "from imblearn.over_sampling import SMOTE,RandomOverSampler,ADASYN"
   ]
  },
  {
   "cell_type": "markdown",
   "metadata": {},
   "source": [
    "### Dataset Description \n",
    "<br>\n",
    "<li>HCV is a dataset created to predict people infected by Hepatitis</li>\n",
    "<li>Dataset consists of 14 Attributes and 615 instance</li> \n",
    "<li>The attributes represents Patient information and his/her medical results and Category column is a string value describes the medical condition of the   patient </li>\n",
    "<li>The target attribute consists of 5 classes;'0=Blood Donor', '0s=suspect Blood Donor', '1=Hepatitis', '2=Fibrosis', '3=Cirrhosis'</li> "
   ]
  },
  {
   "cell_type": "markdown",
   "metadata": {},
   "source": [
    "## Data Exploration"
   ]
  },
  {
   "cell_type": "code",
   "execution_count": 2,
   "metadata": {},
   "outputs": [
    {
     "data": {
      "text/html": [
       "<div>\n",
       "<style scoped>\n",
       "    .dataframe tbody tr th:only-of-type {\n",
       "        vertical-align: middle;\n",
       "    }\n",
       "\n",
       "    .dataframe tbody tr th {\n",
       "        vertical-align: top;\n",
       "    }\n",
       "\n",
       "    .dataframe thead th {\n",
       "        text-align: right;\n",
       "    }\n",
       "</style>\n",
       "<table border=\"1\" class=\"dataframe\">\n",
       "  <thead>\n",
       "    <tr style=\"text-align: right;\">\n",
       "      <th></th>\n",
       "      <th>Unnamed: 0</th>\n",
       "      <th>Category</th>\n",
       "      <th>Age</th>\n",
       "      <th>Sex</th>\n",
       "      <th>ALB</th>\n",
       "      <th>ALP</th>\n",
       "      <th>ALT</th>\n",
       "      <th>AST</th>\n",
       "      <th>BIL</th>\n",
       "      <th>CHE</th>\n",
       "      <th>CHOL</th>\n",
       "      <th>CREA</th>\n",
       "      <th>GGT</th>\n",
       "      <th>PROT</th>\n",
       "    </tr>\n",
       "  </thead>\n",
       "  <tbody>\n",
       "    <tr>\n",
       "      <td>0</td>\n",
       "      <td>1</td>\n",
       "      <td>0=Blood Donor</td>\n",
       "      <td>32</td>\n",
       "      <td>m</td>\n",
       "      <td>38.5</td>\n",
       "      <td>52.5</td>\n",
       "      <td>7.7</td>\n",
       "      <td>22.1</td>\n",
       "      <td>7.5</td>\n",
       "      <td>6.93</td>\n",
       "      <td>3.23</td>\n",
       "      <td>106.0</td>\n",
       "      <td>12.1</td>\n",
       "      <td>69.0</td>\n",
       "    </tr>\n",
       "    <tr>\n",
       "      <td>1</td>\n",
       "      <td>2</td>\n",
       "      <td>0=Blood Donor</td>\n",
       "      <td>32</td>\n",
       "      <td>m</td>\n",
       "      <td>38.5</td>\n",
       "      <td>70.3</td>\n",
       "      <td>18.0</td>\n",
       "      <td>24.7</td>\n",
       "      <td>3.9</td>\n",
       "      <td>11.17</td>\n",
       "      <td>4.80</td>\n",
       "      <td>74.0</td>\n",
       "      <td>15.6</td>\n",
       "      <td>76.5</td>\n",
       "    </tr>\n",
       "    <tr>\n",
       "      <td>2</td>\n",
       "      <td>3</td>\n",
       "      <td>0=Blood Donor</td>\n",
       "      <td>32</td>\n",
       "      <td>m</td>\n",
       "      <td>46.9</td>\n",
       "      <td>74.7</td>\n",
       "      <td>36.2</td>\n",
       "      <td>52.6</td>\n",
       "      <td>6.1</td>\n",
       "      <td>8.84</td>\n",
       "      <td>5.20</td>\n",
       "      <td>86.0</td>\n",
       "      <td>33.2</td>\n",
       "      <td>79.3</td>\n",
       "    </tr>\n",
       "    <tr>\n",
       "      <td>3</td>\n",
       "      <td>4</td>\n",
       "      <td>0=Blood Donor</td>\n",
       "      <td>32</td>\n",
       "      <td>m</td>\n",
       "      <td>43.2</td>\n",
       "      <td>52.0</td>\n",
       "      <td>30.6</td>\n",
       "      <td>22.6</td>\n",
       "      <td>18.9</td>\n",
       "      <td>7.33</td>\n",
       "      <td>4.74</td>\n",
       "      <td>80.0</td>\n",
       "      <td>33.8</td>\n",
       "      <td>75.7</td>\n",
       "    </tr>\n",
       "    <tr>\n",
       "      <td>4</td>\n",
       "      <td>5</td>\n",
       "      <td>0=Blood Donor</td>\n",
       "      <td>32</td>\n",
       "      <td>m</td>\n",
       "      <td>39.2</td>\n",
       "      <td>74.1</td>\n",
       "      <td>32.6</td>\n",
       "      <td>24.8</td>\n",
       "      <td>9.6</td>\n",
       "      <td>9.15</td>\n",
       "      <td>4.32</td>\n",
       "      <td>76.0</td>\n",
       "      <td>29.9</td>\n",
       "      <td>68.7</td>\n",
       "    </tr>\n",
       "  </tbody>\n",
       "</table>\n",
       "</div>"
      ],
      "text/plain": [
       "   Unnamed: 0       Category  Age Sex   ALB   ALP   ALT   AST   BIL    CHE  \\\n",
       "0           1  0=Blood Donor   32   m  38.5  52.5   7.7  22.1   7.5   6.93   \n",
       "1           2  0=Blood Donor   32   m  38.5  70.3  18.0  24.7   3.9  11.17   \n",
       "2           3  0=Blood Donor   32   m  46.9  74.7  36.2  52.6   6.1   8.84   \n",
       "3           4  0=Blood Donor   32   m  43.2  52.0  30.6  22.6  18.9   7.33   \n",
       "4           5  0=Blood Donor   32   m  39.2  74.1  32.6  24.8   9.6   9.15   \n",
       "\n",
       "   CHOL   CREA   GGT  PROT  \n",
       "0  3.23  106.0  12.1  69.0  \n",
       "1  4.80   74.0  15.6  76.5  \n",
       "2  5.20   86.0  33.2  79.3  \n",
       "3  4.74   80.0  33.8  75.7  \n",
       "4  4.32   76.0  29.9  68.7  "
      ]
     },
     "execution_count": 2,
     "metadata": {},
     "output_type": "execute_result"
    }
   ],
   "source": [
    "# Reading the dataset file\n",
    "Dataset=pd.read_csv('hcvdat0.csv')\n",
    "Dataset.head()"
   ]
  },
  {
   "cell_type": "code",
   "execution_count": 3,
   "metadata": {},
   "outputs": [],
   "source": [
    "# Removing Unnamed:0 , as it an unnecssary index column from the csvfile\n",
    "Dataset.drop(['Unnamed: 0'], axis=1 ,inplace=True)"
   ]
  },
  {
   "cell_type": "code",
   "execution_count": 4,
   "metadata": {},
   "outputs": [
    {
     "data": {
      "text/plain": [
       "Category     object\n",
       "Age           int64\n",
       "Sex          object\n",
       "ALB         float64\n",
       "ALP         float64\n",
       "ALT         float64\n",
       "AST         float64\n",
       "BIL         float64\n",
       "CHE         float64\n",
       "CHOL        float64\n",
       "CREA        float64\n",
       "GGT         float64\n",
       "PROT        float64\n",
       "dtype: object"
      ]
     },
     "execution_count": 4,
     "metadata": {},
     "output_type": "execute_result"
    }
   ],
   "source": [
    "# Checking datatype of attributes\n",
    "Dataset.dtypes"
   ]
  },
  {
   "cell_type": "code",
   "execution_count": 5,
   "metadata": {},
   "outputs": [
    {
     "data": {
      "text/html": [
       "<div>\n",
       "<style scoped>\n",
       "    .dataframe tbody tr th:only-of-type {\n",
       "        vertical-align: middle;\n",
       "    }\n",
       "\n",
       "    .dataframe tbody tr th {\n",
       "        vertical-align: top;\n",
       "    }\n",
       "\n",
       "    .dataframe thead th {\n",
       "        text-align: right;\n",
       "    }\n",
       "</style>\n",
       "<table border=\"1\" class=\"dataframe\">\n",
       "  <thead>\n",
       "    <tr style=\"text-align: right;\">\n",
       "      <th></th>\n",
       "      <th>Age</th>\n",
       "      <th>ALB</th>\n",
       "      <th>ALP</th>\n",
       "      <th>ALT</th>\n",
       "      <th>AST</th>\n",
       "      <th>BIL</th>\n",
       "      <th>CHE</th>\n",
       "      <th>CHOL</th>\n",
       "      <th>CREA</th>\n",
       "      <th>GGT</th>\n",
       "      <th>PROT</th>\n",
       "    </tr>\n",
       "  </thead>\n",
       "  <tbody>\n",
       "    <tr>\n",
       "      <td>count</td>\n",
       "      <td>615.000000</td>\n",
       "      <td>614.000000</td>\n",
       "      <td>597.000000</td>\n",
       "      <td>614.000000</td>\n",
       "      <td>615.000000</td>\n",
       "      <td>615.000000</td>\n",
       "      <td>615.000000</td>\n",
       "      <td>605.000000</td>\n",
       "      <td>615.000000</td>\n",
       "      <td>615.000000</td>\n",
       "      <td>614.000000</td>\n",
       "    </tr>\n",
       "    <tr>\n",
       "      <td>mean</td>\n",
       "      <td>47.408130</td>\n",
       "      <td>41.620195</td>\n",
       "      <td>68.283920</td>\n",
       "      <td>28.450814</td>\n",
       "      <td>34.786341</td>\n",
       "      <td>11.396748</td>\n",
       "      <td>8.196634</td>\n",
       "      <td>5.368099</td>\n",
       "      <td>81.287805</td>\n",
       "      <td>39.533171</td>\n",
       "      <td>72.044137</td>\n",
       "    </tr>\n",
       "    <tr>\n",
       "      <td>std</td>\n",
       "      <td>10.055105</td>\n",
       "      <td>5.780629</td>\n",
       "      <td>26.028315</td>\n",
       "      <td>25.469689</td>\n",
       "      <td>33.090690</td>\n",
       "      <td>19.673150</td>\n",
       "      <td>2.205657</td>\n",
       "      <td>1.132728</td>\n",
       "      <td>49.756166</td>\n",
       "      <td>54.661071</td>\n",
       "      <td>5.402636</td>\n",
       "    </tr>\n",
       "    <tr>\n",
       "      <td>min</td>\n",
       "      <td>19.000000</td>\n",
       "      <td>14.900000</td>\n",
       "      <td>11.300000</td>\n",
       "      <td>0.900000</td>\n",
       "      <td>10.600000</td>\n",
       "      <td>0.800000</td>\n",
       "      <td>1.420000</td>\n",
       "      <td>1.430000</td>\n",
       "      <td>8.000000</td>\n",
       "      <td>4.500000</td>\n",
       "      <td>44.800000</td>\n",
       "    </tr>\n",
       "    <tr>\n",
       "      <td>25%</td>\n",
       "      <td>39.000000</td>\n",
       "      <td>38.800000</td>\n",
       "      <td>52.500000</td>\n",
       "      <td>16.400000</td>\n",
       "      <td>21.600000</td>\n",
       "      <td>5.300000</td>\n",
       "      <td>6.935000</td>\n",
       "      <td>4.610000</td>\n",
       "      <td>67.000000</td>\n",
       "      <td>15.700000</td>\n",
       "      <td>69.300000</td>\n",
       "    </tr>\n",
       "    <tr>\n",
       "      <td>50%</td>\n",
       "      <td>47.000000</td>\n",
       "      <td>41.950000</td>\n",
       "      <td>66.200000</td>\n",
       "      <td>23.000000</td>\n",
       "      <td>25.900000</td>\n",
       "      <td>7.300000</td>\n",
       "      <td>8.260000</td>\n",
       "      <td>5.300000</td>\n",
       "      <td>77.000000</td>\n",
       "      <td>23.300000</td>\n",
       "      <td>72.200000</td>\n",
       "    </tr>\n",
       "    <tr>\n",
       "      <td>75%</td>\n",
       "      <td>54.000000</td>\n",
       "      <td>45.200000</td>\n",
       "      <td>80.100000</td>\n",
       "      <td>33.075000</td>\n",
       "      <td>32.900000</td>\n",
       "      <td>11.200000</td>\n",
       "      <td>9.590000</td>\n",
       "      <td>6.060000</td>\n",
       "      <td>88.000000</td>\n",
       "      <td>40.200000</td>\n",
       "      <td>75.400000</td>\n",
       "    </tr>\n",
       "    <tr>\n",
       "      <td>max</td>\n",
       "      <td>77.000000</td>\n",
       "      <td>82.200000</td>\n",
       "      <td>416.600000</td>\n",
       "      <td>325.300000</td>\n",
       "      <td>324.000000</td>\n",
       "      <td>254.000000</td>\n",
       "      <td>16.410000</td>\n",
       "      <td>9.670000</td>\n",
       "      <td>1079.100000</td>\n",
       "      <td>650.900000</td>\n",
       "      <td>90.000000</td>\n",
       "    </tr>\n",
       "  </tbody>\n",
       "</table>\n",
       "</div>"
      ],
      "text/plain": [
       "              Age         ALB         ALP         ALT         AST         BIL  \\\n",
       "count  615.000000  614.000000  597.000000  614.000000  615.000000  615.000000   \n",
       "mean    47.408130   41.620195   68.283920   28.450814   34.786341   11.396748   \n",
       "std     10.055105    5.780629   26.028315   25.469689   33.090690   19.673150   \n",
       "min     19.000000   14.900000   11.300000    0.900000   10.600000    0.800000   \n",
       "25%     39.000000   38.800000   52.500000   16.400000   21.600000    5.300000   \n",
       "50%     47.000000   41.950000   66.200000   23.000000   25.900000    7.300000   \n",
       "75%     54.000000   45.200000   80.100000   33.075000   32.900000   11.200000   \n",
       "max     77.000000   82.200000  416.600000  325.300000  324.000000  254.000000   \n",
       "\n",
       "              CHE        CHOL         CREA         GGT        PROT  \n",
       "count  615.000000  605.000000   615.000000  615.000000  614.000000  \n",
       "mean     8.196634    5.368099    81.287805   39.533171   72.044137  \n",
       "std      2.205657    1.132728    49.756166   54.661071    5.402636  \n",
       "min      1.420000    1.430000     8.000000    4.500000   44.800000  \n",
       "25%      6.935000    4.610000    67.000000   15.700000   69.300000  \n",
       "50%      8.260000    5.300000    77.000000   23.300000   72.200000  \n",
       "75%      9.590000    6.060000    88.000000   40.200000   75.400000  \n",
       "max     16.410000    9.670000  1079.100000  650.900000   90.000000  "
      ]
     },
     "execution_count": 5,
     "metadata": {},
     "output_type": "execute_result"
    }
   ],
   "source": [
    "Dataset.describe()"
   ]
  },
  {
   "cell_type": "code",
   "execution_count": 6,
   "metadata": {},
   "outputs": [
    {
     "data": {
      "text/html": [
       "<div>\n",
       "<style scoped>\n",
       "    .dataframe tbody tr th:only-of-type {\n",
       "        vertical-align: middle;\n",
       "    }\n",
       "\n",
       "    .dataframe tbody tr th {\n",
       "        vertical-align: top;\n",
       "    }\n",
       "\n",
       "    .dataframe thead th {\n",
       "        text-align: right;\n",
       "    }\n",
       "</style>\n",
       "<table border=\"1\" class=\"dataframe\">\n",
       "  <thead>\n",
       "    <tr style=\"text-align: right;\">\n",
       "      <th></th>\n",
       "      <th>Category</th>\n",
       "      <th>Age</th>\n",
       "      <th>Sex</th>\n",
       "      <th>ALB</th>\n",
       "      <th>ALP</th>\n",
       "      <th>ALT</th>\n",
       "      <th>AST</th>\n",
       "      <th>BIL</th>\n",
       "      <th>CHE</th>\n",
       "      <th>CHOL</th>\n",
       "      <th>CREA</th>\n",
       "      <th>GGT</th>\n",
       "      <th>PROT</th>\n",
       "    </tr>\n",
       "  </thead>\n",
       "  <tbody>\n",
       "    <tr>\n",
       "      <td>0</td>\n",
       "      <td>0</td>\n",
       "      <td>32</td>\n",
       "      <td>1</td>\n",
       "      <td>38.5</td>\n",
       "      <td>52.5</td>\n",
       "      <td>7.7</td>\n",
       "      <td>22.1</td>\n",
       "      <td>7.5</td>\n",
       "      <td>6.93</td>\n",
       "      <td>3.23</td>\n",
       "      <td>106.0</td>\n",
       "      <td>12.1</td>\n",
       "      <td>69.0</td>\n",
       "    </tr>\n",
       "    <tr>\n",
       "      <td>1</td>\n",
       "      <td>0</td>\n",
       "      <td>32</td>\n",
       "      <td>1</td>\n",
       "      <td>38.5</td>\n",
       "      <td>70.3</td>\n",
       "      <td>18.0</td>\n",
       "      <td>24.7</td>\n",
       "      <td>3.9</td>\n",
       "      <td>11.17</td>\n",
       "      <td>4.80</td>\n",
       "      <td>74.0</td>\n",
       "      <td>15.6</td>\n",
       "      <td>76.5</td>\n",
       "    </tr>\n",
       "    <tr>\n",
       "      <td>2</td>\n",
       "      <td>0</td>\n",
       "      <td>32</td>\n",
       "      <td>1</td>\n",
       "      <td>46.9</td>\n",
       "      <td>74.7</td>\n",
       "      <td>36.2</td>\n",
       "      <td>52.6</td>\n",
       "      <td>6.1</td>\n",
       "      <td>8.84</td>\n",
       "      <td>5.20</td>\n",
       "      <td>86.0</td>\n",
       "      <td>33.2</td>\n",
       "      <td>79.3</td>\n",
       "    </tr>\n",
       "    <tr>\n",
       "      <td>3</td>\n",
       "      <td>0</td>\n",
       "      <td>32</td>\n",
       "      <td>1</td>\n",
       "      <td>43.2</td>\n",
       "      <td>52.0</td>\n",
       "      <td>30.6</td>\n",
       "      <td>22.6</td>\n",
       "      <td>18.9</td>\n",
       "      <td>7.33</td>\n",
       "      <td>4.74</td>\n",
       "      <td>80.0</td>\n",
       "      <td>33.8</td>\n",
       "      <td>75.7</td>\n",
       "    </tr>\n",
       "    <tr>\n",
       "      <td>4</td>\n",
       "      <td>0</td>\n",
       "      <td>32</td>\n",
       "      <td>1</td>\n",
       "      <td>39.2</td>\n",
       "      <td>74.1</td>\n",
       "      <td>32.6</td>\n",
       "      <td>24.8</td>\n",
       "      <td>9.6</td>\n",
       "      <td>9.15</td>\n",
       "      <td>4.32</td>\n",
       "      <td>76.0</td>\n",
       "      <td>29.9</td>\n",
       "      <td>68.7</td>\n",
       "    </tr>\n",
       "  </tbody>\n",
       "</table>\n",
       "</div>"
      ],
      "text/plain": [
       "   Category  Age  Sex   ALB   ALP   ALT   AST   BIL    CHE  CHOL   CREA   GGT  \\\n",
       "0         0   32    1  38.5  52.5   7.7  22.1   7.5   6.93  3.23  106.0  12.1   \n",
       "1         0   32    1  38.5  70.3  18.0  24.7   3.9  11.17  4.80   74.0  15.6   \n",
       "2         0   32    1  46.9  74.7  36.2  52.6   6.1   8.84  5.20   86.0  33.2   \n",
       "3         0   32    1  43.2  52.0  30.6  22.6  18.9   7.33  4.74   80.0  33.8   \n",
       "4         0   32    1  39.2  74.1  32.6  24.8   9.6   9.15  4.32   76.0  29.9   \n",
       "\n",
       "   PROT  \n",
       "0  69.0  \n",
       "1  76.5  \n",
       "2  79.3  \n",
       "3  75.7  \n",
       "4  68.7  "
      ]
     },
     "execution_count": 6,
     "metadata": {},
     "output_type": "execute_result"
    }
   ],
   "source": [
    "# Converting categorical to numerical \n",
    "label=LabelEncoder()\n",
    "Dataset['Category']=label.fit_transform(Dataset['Category'])\n",
    "Dataset['Sex']=label.fit_transform(Dataset['Sex'])\n",
    "Dataset.head()"
   ]
  },
  {
   "cell_type": "code",
   "execution_count": 7,
   "metadata": {},
   "outputs": [
    {
     "data": {
      "text/plain": [
       "Category     0\n",
       "Age          0\n",
       "Sex          0\n",
       "ALB          1\n",
       "ALP         18\n",
       "ALT          1\n",
       "AST          0\n",
       "BIL          0\n",
       "CHE          0\n",
       "CHOL        10\n",
       "CREA         0\n",
       "GGT          0\n",
       "PROT         1\n",
       "dtype: int64"
      ]
     },
     "execution_count": 7,
     "metadata": {},
     "output_type": "execute_result"
    }
   ],
   "source": [
    "# Checking missing values \n",
    "Dataset.isnull().sum()"
   ]
  },
  {
   "cell_type": "code",
   "execution_count": 8,
   "metadata": {},
   "outputs": [
    {
     "data": {
      "text/html": [
       "\n",
       "<style>\n",
       ".output_png {\n",
       "    display: table-cell;\n",
       "    text-align: center;\n",
       "}\n",
       "</style>\n"
      ],
      "text/plain": [
       "<IPython.core.display.HTML object>"
      ]
     },
     "execution_count": 8,
     "metadata": {},
     "output_type": "execute_result"
    }
   ],
   "source": [
    "# a code to center the plots\n",
    "from IPython.core.display import HTML\n",
    "HTML(\"\"\"\n",
    "<style>\n",
    ".output_png {\n",
    "    display: table-cell;\n",
    "    text-align: center;\n",
    "}\n",
    "</style>\n",
    "\"\"\")"
   ]
  },
  {
   "cell_type": "code",
   "execution_count": 9,
   "metadata": {},
   "outputs": [
    {
     "data": {
      "image/png": "[encoded data removed]",
      "text/plain": [
       "<Figure size 576x432 with 1 Axes>"
      ]
     },
     "metadata": {
      "needs_background": "light"
     },
     "output_type": "display_data"
    }
   ],
   "source": [
    "#checking the frequency of each class \n",
    "ax=Dataset['Category'].value_counts().plot(kind='bar',color=['red','blue','green','blueviolet','navy'],\n",
    "                                          title='People Category',figsize=(8, 6))\n",
    "\n",
    "plt.xticks(range(5),['Blood Donor','Cirrhosis','Hepatitis','Fibrosis','suspect Blood Donor'])\n",
    "ax.set_xlabel(\"Category\",fontsize=16)\n",
    "ax.set_ylabel(\"Number of peoples\",fontsize=14)\n",
    "plt.show()"
   ]
  },
  {
   "cell_type": "code",
   "execution_count": 10,
   "metadata": {},
   "outputs": [
    {
     "data": {
      "text/html": [
       "<div>\n",
       "<style scoped>\n",
       "    .dataframe tbody tr th:only-of-type {\n",
       "        vertical-align: middle;\n",
       "    }\n",
       "\n",
       "    .dataframe tbody tr th {\n",
       "        vertical-align: top;\n",
       "    }\n",
       "\n",
       "    .dataframe thead th {\n",
       "        text-align: right;\n",
       "    }\n",
       "</style>\n",
       "<table border=\"1\" class=\"dataframe\">\n",
       "  <thead>\n",
       "    <tr style=\"text-align: right;\">\n",
       "      <th></th>\n",
       "      <th>Category</th>\n",
       "      <th>Age</th>\n",
       "      <th>Sex</th>\n",
       "      <th>ALB</th>\n",
       "      <th>ALP</th>\n",
       "      <th>ALT</th>\n",
       "      <th>AST</th>\n",
       "      <th>BIL</th>\n",
       "      <th>CHE</th>\n",
       "      <th>CHOL</th>\n",
       "      <th>CREA</th>\n",
       "      <th>GGT</th>\n",
       "      <th>PROT</th>\n",
       "    </tr>\n",
       "  </thead>\n",
       "  <tbody>\n",
       "    <tr>\n",
       "      <td>Category</td>\n",
       "      <td>1.000000</td>\n",
       "      <td>0.106341</td>\n",
       "      <td>0.060657</td>\n",
       "      <td>-0.288252</td>\n",
       "      <td>0.032323</td>\n",
       "      <td>0.106574</td>\n",
       "      <td>0.648341</td>\n",
       "      <td>0.473006</td>\n",
       "      <td>-0.329472</td>\n",
       "      <td>-0.308071</td>\n",
       "      <td>0.182040</td>\n",
       "      <td>0.471164</td>\n",
       "      <td>0.007230</td>\n",
       "    </tr>\n",
       "    <tr>\n",
       "      <td>Age</td>\n",
       "      <td>0.106341</td>\n",
       "      <td>1.000000</td>\n",
       "      <td>-0.024544</td>\n",
       "      <td>-0.197498</td>\n",
       "      <td>0.173340</td>\n",
       "      <td>-0.006021</td>\n",
       "      <td>0.088666</td>\n",
       "      <td>0.032492</td>\n",
       "      <td>-0.075093</td>\n",
       "      <td>0.125641</td>\n",
       "      <td>-0.022296</td>\n",
       "      <td>0.153087</td>\n",
       "      <td>-0.153668</td>\n",
       "    </tr>\n",
       "    <tr>\n",
       "      <td>Sex</td>\n",
       "      <td>0.060657</td>\n",
       "      <td>-0.024544</td>\n",
       "      <td>1.000000</td>\n",
       "      <td>0.146140</td>\n",
       "      <td>-0.019825</td>\n",
       "      <td>0.161868</td>\n",
       "      <td>0.130891</td>\n",
       "      <td>0.111177</td>\n",
       "      <td>0.169111</td>\n",
       "      <td>-0.030208</td>\n",
       "      <td>0.159589</td>\n",
       "      <td>0.133276</td>\n",
       "      <td>0.051277</td>\n",
       "    </tr>\n",
       "    <tr>\n",
       "      <td>ALB</td>\n",
       "      <td>-0.288252</td>\n",
       "      <td>-0.197498</td>\n",
       "      <td>0.146140</td>\n",
       "      <td>1.000000</td>\n",
       "      <td>-0.141584</td>\n",
       "      <td>0.001606</td>\n",
       "      <td>-0.193450</td>\n",
       "      <td>-0.221651</td>\n",
       "      <td>0.375878</td>\n",
       "      <td>0.208248</td>\n",
       "      <td>-0.001573</td>\n",
       "      <td>-0.155749</td>\n",
       "      <td>0.557197</td>\n",
       "    </tr>\n",
       "    <tr>\n",
       "      <td>ALP</td>\n",
       "      <td>0.032323</td>\n",
       "      <td>0.173340</td>\n",
       "      <td>-0.019825</td>\n",
       "      <td>-0.141584</td>\n",
       "      <td>1.000000</td>\n",
       "      <td>0.214480</td>\n",
       "      <td>0.063948</td>\n",
       "      <td>0.056078</td>\n",
       "      <td>0.033753</td>\n",
       "      <td>0.125429</td>\n",
       "      <td>0.149832</td>\n",
       "      <td>0.454630</td>\n",
       "      <td>-0.055109</td>\n",
       "    </tr>\n",
       "    <tr>\n",
       "      <td>ALT</td>\n",
       "      <td>0.106574</td>\n",
       "      <td>-0.006021</td>\n",
       "      <td>0.161868</td>\n",
       "      <td>0.001606</td>\n",
       "      <td>0.214480</td>\n",
       "      <td>1.000000</td>\n",
       "      <td>0.273326</td>\n",
       "      <td>-0.038469</td>\n",
       "      <td>0.147000</td>\n",
       "      <td>0.068947</td>\n",
       "      <td>-0.043025</td>\n",
       "      <td>0.248114</td>\n",
       "      <td>0.094730</td>\n",
       "    </tr>\n",
       "    <tr>\n",
       "      <td>AST</td>\n",
       "      <td>0.648341</td>\n",
       "      <td>0.088666</td>\n",
       "      <td>0.130891</td>\n",
       "      <td>-0.193450</td>\n",
       "      <td>0.063948</td>\n",
       "      <td>0.273326</td>\n",
       "      <td>1.000000</td>\n",
       "      <td>0.312231</td>\n",
       "      <td>-0.208536</td>\n",
       "      <td>-0.209970</td>\n",
       "      <td>-0.021387</td>\n",
       "      <td>0.491263</td>\n",
       "      <td>0.040071</td>\n",
       "    </tr>\n",
       "    <tr>\n",
       "      <td>BIL</td>\n",
       "      <td>0.473006</td>\n",
       "      <td>0.032492</td>\n",
       "      <td>0.111177</td>\n",
       "      <td>-0.221651</td>\n",
       "      <td>0.056078</td>\n",
       "      <td>-0.038469</td>\n",
       "      <td>0.312231</td>\n",
       "      <td>1.000000</td>\n",
       "      <td>-0.333172</td>\n",
       "      <td>-0.180370</td>\n",
       "      <td>0.031224</td>\n",
       "      <td>0.217024</td>\n",
       "      <td>-0.047638</td>\n",
       "    </tr>\n",
       "    <tr>\n",
       "      <td>CHE</td>\n",
       "      <td>-0.329472</td>\n",
       "      <td>-0.075093</td>\n",
       "      <td>0.169111</td>\n",
       "      <td>0.375878</td>\n",
       "      <td>0.033753</td>\n",
       "      <td>0.147000</td>\n",
       "      <td>-0.208536</td>\n",
       "      <td>-0.333172</td>\n",
       "      <td>1.000000</td>\n",
       "      <td>0.425456</td>\n",
       "      <td>-0.011157</td>\n",
       "      <td>-0.110345</td>\n",
       "      <td>0.295427</td>\n",
       "    </tr>\n",
       "    <tr>\n",
       "      <td>CHOL</td>\n",
       "      <td>-0.308071</td>\n",
       "      <td>0.125641</td>\n",
       "      <td>-0.030208</td>\n",
       "      <td>0.208248</td>\n",
       "      <td>0.125429</td>\n",
       "      <td>0.068947</td>\n",
       "      <td>-0.209970</td>\n",
       "      <td>-0.180370</td>\n",
       "      <td>0.425456</td>\n",
       "      <td>1.000000</td>\n",
       "      <td>-0.047744</td>\n",
       "      <td>-0.006895</td>\n",
       "      <td>0.207071</td>\n",
       "    </tr>\n",
       "    <tr>\n",
       "      <td>CREA</td>\n",
       "      <td>0.182040</td>\n",
       "      <td>-0.022296</td>\n",
       "      <td>0.159589</td>\n",
       "      <td>-0.001573</td>\n",
       "      <td>0.149832</td>\n",
       "      <td>-0.043025</td>\n",
       "      <td>-0.021387</td>\n",
       "      <td>0.031224</td>\n",
       "      <td>-0.011157</td>\n",
       "      <td>-0.047744</td>\n",
       "      <td>1.000000</td>\n",
       "      <td>0.121003</td>\n",
       "      <td>-0.031704</td>\n",
       "    </tr>\n",
       "    <tr>\n",
       "      <td>GGT</td>\n",
       "      <td>0.471164</td>\n",
       "      <td>0.153087</td>\n",
       "      <td>0.133276</td>\n",
       "      <td>-0.155749</td>\n",
       "      <td>0.454630</td>\n",
       "      <td>0.248114</td>\n",
       "      <td>0.491263</td>\n",
       "      <td>0.217024</td>\n",
       "      <td>-0.110345</td>\n",
       "      <td>-0.006895</td>\n",
       "      <td>0.121003</td>\n",
       "      <td>1.000000</td>\n",
       "      <td>-0.011767</td>\n",
       "    </tr>\n",
       "    <tr>\n",
       "      <td>PROT</td>\n",
       "      <td>0.007230</td>\n",
       "      <td>-0.153668</td>\n",
       "      <td>0.051277</td>\n",
       "      <td>0.557197</td>\n",
       "      <td>-0.055109</td>\n",
       "      <td>0.094730</td>\n",
       "      <td>0.040071</td>\n",
       "      <td>-0.047638</td>\n",
       "      <td>0.295427</td>\n",
       "      <td>0.207071</td>\n",
       "      <td>-0.031704</td>\n",
       "      <td>-0.011767</td>\n",
       "      <td>1.000000</td>\n",
       "    </tr>\n",
       "  </tbody>\n",
       "</table>\n",
       "</div>"
      ],
      "text/plain": [
       "          Category       Age       Sex       ALB       ALP       ALT  \\\n",
       "Category  1.000000  0.106341  0.060657 -0.288252  0.032323  0.106574   \n",
       "Age       0.106341  1.000000 -0.024544 -0.197498  0.173340 -0.006021   \n",
       "Sex       0.060657 -0.024544  1.000000  0.146140 -0.019825  0.161868   \n",
       "ALB      -0.288252 -0.197498  0.146140  1.000000 -0.141584  0.001606   \n",
       "ALP       0.032323  0.173340 -0.019825 -0.141584  1.000000  0.214480   \n",
       "ALT       0.106574 -0.006021  0.161868  0.001606  0.214480  1.000000   \n",
       "AST       0.648341  0.088666  0.130891 -0.193450  0.063948  0.273326   \n",
       "BIL       0.473006  0.032492  0.111177 -0.221651  0.056078 -0.038469   \n",
       "CHE      -0.329472 -0.075093  0.169111  0.375878  0.033753  0.147000   \n",
       "CHOL     -0.308071  0.125641 -0.030208  0.208248  0.125429  0.068947   \n",
       "CREA      0.182040 -0.022296  0.159589 -0.001573  0.149832 -0.043025   \n",
       "GGT       0.471164  0.153087  0.133276 -0.155749  0.454630  0.248114   \n",
       "PROT      0.007230 -0.153668  0.051277  0.557197 -0.055109  0.094730   \n",
       "\n",
       "               AST       BIL       CHE      CHOL      CREA       GGT      PROT  \n",
       "Category  0.648341  0.473006 -0.329472 -0.308071  0.182040  0.471164  0.007230  \n",
       "Age       0.088666  0.032492 -0.075093  0.125641 -0.022296  0.153087 -0.153668  \n",
       "Sex       0.130891  0.111177  0.169111 -0.030208  0.159589  0.133276  0.051277  \n",
       "ALB      -0.193450 -0.221651  0.375878  0.208248 -0.001573 -0.155749  0.557197  \n",
       "ALP       0.063948  0.056078  0.033753  0.125429  0.149832  0.454630 -0.055109  \n",
       "ALT       0.273326 -0.038469  0.147000  0.068947 -0.043025  0.248114  0.094730  \n",
       "AST       1.000000  0.312231 -0.208536 -0.209970 -0.021387  0.491263  0.040071  \n",
       "BIL       0.312231  1.000000 -0.333172 -0.180370  0.031224  0.217024 -0.047638  \n",
       "CHE      -0.208536 -0.333172  1.000000  0.425456 -0.011157 -0.110345  0.295427  \n",
       "CHOL     -0.209970 -0.180370  0.425456  1.000000 -0.047744 -0.006895  0.207071  \n",
       "CREA     -0.021387  0.031224 -0.011157 -0.047744  1.000000  0.121003 -0.031704  \n",
       "GGT       0.491263  0.217024 -0.110345 -0.006895  0.121003  1.000000 -0.011767  \n",
       "PROT      0.040071 -0.047638  0.295427  0.207071 -0.031704 -0.011767  1.000000  "
      ]
     },
     "execution_count": 10,
     "metadata": {},
     "output_type": "execute_result"
    }
   ],
   "source": [
    "# Checking correlation of each attriubute\n",
    "corr = Dataset.corr()\n",
    "corr "
   ]
  },
  {
   "cell_type": "code",
   "execution_count": 11,
   "metadata": {
    "scrolled": false
   },
   "outputs": [
    {
     "data": {
      "text/html": [
       "<div>\n",
       "<style scoped>\n",
       "    .dataframe tbody tr th:only-of-type {\n",
       "        vertical-align: middle;\n",
       "    }\n",
       "\n",
       "    .dataframe tbody tr th {\n",
       "        vertical-align: top;\n",
       "    }\n",
       "\n",
       "    .dataframe thead th {\n",
       "        text-align: right;\n",
       "    }\n",
       "</style>\n",
       "<table border=\"1\" class=\"dataframe\">\n",
       "  <thead>\n",
       "    <tr style=\"text-align: right;\">\n",
       "      <th></th>\n",
       "      <th>Category</th>\n",
       "      <th>Age</th>\n",
       "      <th>Sex</th>\n",
       "      <th>ALB</th>\n",
       "      <th>ALP</th>\n",
       "      <th>ALT</th>\n",
       "      <th>AST</th>\n",
       "      <th>BIL</th>\n",
       "      <th>CHE</th>\n",
       "      <th>CHOL</th>\n",
       "      <th>CREA</th>\n",
       "      <th>GGT</th>\n",
       "      <th>PROT</th>\n",
       "    </tr>\n",
       "  </thead>\n",
       "  <tbody>\n",
       "    <tr>\n",
       "      <td>541</td>\n",
       "      <td>2</td>\n",
       "      <td>19</td>\n",
       "      <td>1</td>\n",
       "      <td>41.0</td>\n",
       "      <td>NaN</td>\n",
       "      <td>87.0</td>\n",
       "      <td>67.0</td>\n",
       "      <td>12.0</td>\n",
       "      <td>7.55</td>\n",
       "      <td>3.9</td>\n",
       "      <td>62.0</td>\n",
       "      <td>65.0</td>\n",
       "      <td>75.0</td>\n",
       "    </tr>\n",
       "    <tr>\n",
       "      <td>545</td>\n",
       "      <td>2</td>\n",
       "      <td>29</td>\n",
       "      <td>1</td>\n",
       "      <td>49.0</td>\n",
       "      <td>NaN</td>\n",
       "      <td>53.0</td>\n",
       "      <td>39.0</td>\n",
       "      <td>15.0</td>\n",
       "      <td>8.79</td>\n",
       "      <td>3.6</td>\n",
       "      <td>79.0</td>\n",
       "      <td>37.0</td>\n",
       "      <td>90.0</td>\n",
       "    </tr>\n",
       "    <tr>\n",
       "      <td>546</td>\n",
       "      <td>2</td>\n",
       "      <td>30</td>\n",
       "      <td>1</td>\n",
       "      <td>45.0</td>\n",
       "      <td>NaN</td>\n",
       "      <td>66.0</td>\n",
       "      <td>45.0</td>\n",
       "      <td>14.0</td>\n",
       "      <td>12.16</td>\n",
       "      <td>6.1</td>\n",
       "      <td>86.0</td>\n",
       "      <td>43.0</td>\n",
       "      <td>77.0</td>\n",
       "    </tr>\n",
       "    <tr>\n",
       "      <td>568</td>\n",
       "      <td>3</td>\n",
       "      <td>49</td>\n",
       "      <td>1</td>\n",
       "      <td>39.0</td>\n",
       "      <td>NaN</td>\n",
       "      <td>118.0</td>\n",
       "      <td>62.0</td>\n",
       "      <td>10.0</td>\n",
       "      <td>7.28</td>\n",
       "      <td>3.5</td>\n",
       "      <td>72.0</td>\n",
       "      <td>74.0</td>\n",
       "      <td>81.0</td>\n",
       "    </tr>\n",
       "    <tr>\n",
       "      <td>569</td>\n",
       "      <td>3</td>\n",
       "      <td>49</td>\n",
       "      <td>1</td>\n",
       "      <td>46.0</td>\n",
       "      <td>NaN</td>\n",
       "      <td>114.0</td>\n",
       "      <td>75.0</td>\n",
       "      <td>16.0</td>\n",
       "      <td>10.43</td>\n",
       "      <td>5.2</td>\n",
       "      <td>72.0</td>\n",
       "      <td>59.0</td>\n",
       "      <td>82.0</td>\n",
       "    </tr>\n",
       "    <tr>\n",
       "      <td>570</td>\n",
       "      <td>3</td>\n",
       "      <td>50</td>\n",
       "      <td>1</td>\n",
       "      <td>42.0</td>\n",
       "      <td>NaN</td>\n",
       "      <td>258.0</td>\n",
       "      <td>106.0</td>\n",
       "      <td>15.0</td>\n",
       "      <td>8.74</td>\n",
       "      <td>4.7</td>\n",
       "      <td>77.0</td>\n",
       "      <td>80.0</td>\n",
       "      <td>84.0</td>\n",
       "    </tr>\n",
       "    <tr>\n",
       "      <td>571</td>\n",
       "      <td>3</td>\n",
       "      <td>53</td>\n",
       "      <td>1</td>\n",
       "      <td>46.0</td>\n",
       "      <td>NaN</td>\n",
       "      <td>34.0</td>\n",
       "      <td>43.0</td>\n",
       "      <td>14.0</td>\n",
       "      <td>8.77</td>\n",
       "      <td>4.0</td>\n",
       "      <td>112.0</td>\n",
       "      <td>203.0</td>\n",
       "      <td>76.0</td>\n",
       "    </tr>\n",
       "    <tr>\n",
       "      <td>576</td>\n",
       "      <td>3</td>\n",
       "      <td>71</td>\n",
       "      <td>1</td>\n",
       "      <td>37.0</td>\n",
       "      <td>NaN</td>\n",
       "      <td>130.0</td>\n",
       "      <td>90.0</td>\n",
       "      <td>15.0</td>\n",
       "      <td>9.92</td>\n",
       "      <td>4.7</td>\n",
       "      <td>79.0</td>\n",
       "      <td>77.0</td>\n",
       "      <td>76.0</td>\n",
       "    </tr>\n",
       "    <tr>\n",
       "      <td>581</td>\n",
       "      <td>3</td>\n",
       "      <td>49</td>\n",
       "      <td>0</td>\n",
       "      <td>39.0</td>\n",
       "      <td>NaN</td>\n",
       "      <td>46.0</td>\n",
       "      <td>39.0</td>\n",
       "      <td>9.0</td>\n",
       "      <td>10.21</td>\n",
       "      <td>3.1</td>\n",
       "      <td>89.0</td>\n",
       "      <td>53.0</td>\n",
       "      <td>79.0</td>\n",
       "    </tr>\n",
       "    <tr>\n",
       "      <td>582</td>\n",
       "      <td>3</td>\n",
       "      <td>51</td>\n",
       "      <td>0</td>\n",
       "      <td>37.0</td>\n",
       "      <td>NaN</td>\n",
       "      <td>164.0</td>\n",
       "      <td>70.0</td>\n",
       "      <td>9.0</td>\n",
       "      <td>3.99</td>\n",
       "      <td>4.2</td>\n",
       "      <td>67.0</td>\n",
       "      <td>43.0</td>\n",
       "      <td>72.0</td>\n",
       "    </tr>\n",
       "    <tr>\n",
       "      <td>583</td>\n",
       "      <td>3</td>\n",
       "      <td>56</td>\n",
       "      <td>0</td>\n",
       "      <td>39.0</td>\n",
       "      <td>NaN</td>\n",
       "      <td>42.0</td>\n",
       "      <td>34.0</td>\n",
       "      <td>10.0</td>\n",
       "      <td>7.75</td>\n",
       "      <td>5.0</td>\n",
       "      <td>80.0</td>\n",
       "      <td>84.0</td>\n",
       "      <td>78.0</td>\n",
       "    </tr>\n",
       "    <tr>\n",
       "      <td>584</td>\n",
       "      <td>3</td>\n",
       "      <td>75</td>\n",
       "      <td>0</td>\n",
       "      <td>36.0</td>\n",
       "      <td>NaN</td>\n",
       "      <td>114.0</td>\n",
       "      <td>125.0</td>\n",
       "      <td>14.0</td>\n",
       "      <td>6.65</td>\n",
       "      <td>NaN</td>\n",
       "      <td>57.0</td>\n",
       "      <td>177.0</td>\n",
       "      <td>72.0</td>\n",
       "    </tr>\n",
       "    <tr>\n",
       "      <td>585</td>\n",
       "      <td>4</td>\n",
       "      <td>38</td>\n",
       "      <td>1</td>\n",
       "      <td>44.0</td>\n",
       "      <td>NaN</td>\n",
       "      <td>94.0</td>\n",
       "      <td>60.0</td>\n",
       "      <td>12.0</td>\n",
       "      <td>4.37</td>\n",
       "      <td>3.2</td>\n",
       "      <td>61.0</td>\n",
       "      <td>99.0</td>\n",
       "      <td>77.0</td>\n",
       "    </tr>\n",
       "    <tr>\n",
       "      <td>590</td>\n",
       "      <td>4</td>\n",
       "      <td>46</td>\n",
       "      <td>1</td>\n",
       "      <td>20.0</td>\n",
       "      <td>NaN</td>\n",
       "      <td>62.0</td>\n",
       "      <td>113.0</td>\n",
       "      <td>254.0</td>\n",
       "      <td>1.48</td>\n",
       "      <td>NaN</td>\n",
       "      <td>114.0</td>\n",
       "      <td>138.0</td>\n",
       "      <td>NaN</td>\n",
       "    </tr>\n",
       "    <tr>\n",
       "      <td>592</td>\n",
       "      <td>4</td>\n",
       "      <td>47</td>\n",
       "      <td>1</td>\n",
       "      <td>42.0</td>\n",
       "      <td>NaN</td>\n",
       "      <td>159.0</td>\n",
       "      <td>102.0</td>\n",
       "      <td>11.0</td>\n",
       "      <td>6.29</td>\n",
       "      <td>5.5</td>\n",
       "      <td>58.0</td>\n",
       "      <td>201.0</td>\n",
       "      <td>79.0</td>\n",
       "    </tr>\n",
       "    <tr>\n",
       "      <td>603</td>\n",
       "      <td>4</td>\n",
       "      <td>65</td>\n",
       "      <td>1</td>\n",
       "      <td>NaN</td>\n",
       "      <td>NaN</td>\n",
       "      <td>40.0</td>\n",
       "      <td>54.0</td>\n",
       "      <td>13.0</td>\n",
       "      <td>7.50</td>\n",
       "      <td>NaN</td>\n",
       "      <td>70.0</td>\n",
       "      <td>107.0</td>\n",
       "      <td>79.0</td>\n",
       "    </tr>\n",
       "    <tr>\n",
       "      <td>613</td>\n",
       "      <td>4</td>\n",
       "      <td>46</td>\n",
       "      <td>0</td>\n",
       "      <td>33.0</td>\n",
       "      <td>NaN</td>\n",
       "      <td>39.0</td>\n",
       "      <td>62.0</td>\n",
       "      <td>20.0</td>\n",
       "      <td>3.56</td>\n",
       "      <td>4.2</td>\n",
       "      <td>52.0</td>\n",
       "      <td>50.0</td>\n",
       "      <td>71.0</td>\n",
       "    </tr>\n",
       "    <tr>\n",
       "      <td>614</td>\n",
       "      <td>4</td>\n",
       "      <td>59</td>\n",
       "      <td>0</td>\n",
       "      <td>36.0</td>\n",
       "      <td>NaN</td>\n",
       "      <td>100.0</td>\n",
       "      <td>80.0</td>\n",
       "      <td>12.0</td>\n",
       "      <td>9.07</td>\n",
       "      <td>5.3</td>\n",
       "      <td>67.0</td>\n",
       "      <td>34.0</td>\n",
       "      <td>68.0</td>\n",
       "    </tr>\n",
       "  </tbody>\n",
       "</table>\n",
       "</div>"
      ],
      "text/plain": [
       "     Category  Age  Sex   ALB  ALP    ALT    AST    BIL    CHE  CHOL   CREA  \\\n",
       "541         2   19    1  41.0  NaN   87.0   67.0   12.0   7.55   3.9   62.0   \n",
       "545         2   29    1  49.0  NaN   53.0   39.0   15.0   8.79   3.6   79.0   \n",
       "546         2   30    1  45.0  NaN   66.0   45.0   14.0  12.16   6.1   86.0   \n",
       "568         3   49    1  39.0  NaN  118.0   62.0   10.0   7.28   3.5   72.0   \n",
       "569         3   49    1  46.0  NaN  114.0   75.0   16.0  10.43   5.2   72.0   \n",
       "570         3   50    1  42.0  NaN  258.0  106.0   15.0   8.74   4.7   77.0   \n",
       "571         3   53    1  46.0  NaN   34.0   43.0   14.0   8.77   4.0  112.0   \n",
       "576         3   71    1  37.0  NaN  130.0   90.0   15.0   9.92   4.7   79.0   \n",
       "581         3   49    0  39.0  NaN   46.0   39.0    9.0  10.21   3.1   89.0   \n",
       "582         3   51    0  37.0  NaN  164.0   70.0    9.0   3.99   4.2   67.0   \n",
       "583         3   56    0  39.0  NaN   42.0   34.0   10.0   7.75   5.0   80.0   \n",
       "584         3   75    0  36.0  NaN  114.0  125.0   14.0   6.65   NaN   57.0   \n",
       "585         4   38    1  44.0  NaN   94.0   60.0   12.0   4.37   3.2   61.0   \n",
       "590         4   46    1  20.0  NaN   62.0  113.0  254.0   1.48   NaN  114.0   \n",
       "592         4   47    1  42.0  NaN  159.0  102.0   11.0   6.29   5.5   58.0   \n",
       "603         4   65    1   NaN  NaN   40.0   54.0   13.0   7.50   NaN   70.0   \n",
       "613         4   46    0  33.0  NaN   39.0   62.0   20.0   3.56   4.2   52.0   \n",
       "614         4   59    0  36.0  NaN  100.0   80.0   12.0   9.07   5.3   67.0   \n",
       "\n",
       "       GGT  PROT  \n",
       "541   65.0  75.0  \n",
       "545   37.0  90.0  \n",
       "546   43.0  77.0  \n",
       "568   74.0  81.0  \n",
       "569   59.0  82.0  \n",
       "570   80.0  84.0  \n",
       "571  203.0  76.0  \n",
       "576   77.0  76.0  \n",
       "581   53.0  79.0  \n",
       "582   43.0  72.0  \n",
       "583   84.0  78.0  \n",
       "584  177.0  72.0  \n",
       "585   99.0  77.0  \n",
       "590  138.0   NaN  \n",
       "592  201.0  79.0  \n",
       "603  107.0  79.0  \n",
       "613   50.0  71.0  \n",
       "614   34.0  68.0  "
      ]
     },
     "execution_count": 11,
     "metadata": {},
     "output_type": "execute_result"
    }
   ],
   "source": [
    "# Viewing missing data from which class\n",
    "Dataset.loc[Dataset['ALP'].isnull()==True]"
   ]
  },
  {
   "cell_type": "code",
   "execution_count": 12,
   "metadata": {},
   "outputs": [],
   "source": [
    "listOfAccs=[]\n",
    "listOfAccs.append(['Accuracy','matthews_corrcoef','Precision','Recall','Fscore','Note'])\n",
    "# Defining Function that shows the accuracies of models\n",
    "def showAcc(model,x_train,x_test,y_train,y_test,y_pred,notes):\n",
    "    global listOfAccs\n",
    "    print(\"ACC of model: %.4f\" %accuracy_score(y_pred,y_test))\n",
    "    kfold = KFold(n_splits=5)\n",
    "    accuracy_results = cross_val_score(model, x_train, y_train, cv=kfold)\n",
    "    accuracyMessage = \"KFold Acc : %.4f  \" % ( accuracy_results.mean())\n",
    "    print(accuracyMessage)\n",
    "    print(f\"Matthews_Corrcoef Accuracy {matthews_corrcoef(y_test, y_pred):.4f}\")\n",
    "    print(f\"balanced_accuracy_score {balanced_accuracy_score(y_test,y_pred):0.4f}\")\n",
    "    m=precision_recall_fscore_support(y_test, y_pred, average='macro')\n",
    "    print(f\"Precision : {m[0]:.4f} Recall : {m[1]:.4f} Fscore : {m[2]:.4f}\" )\n",
    "    plot_confusion_matrix(model,x_test,y_test,cmap='Purples')\n",
    "    plt.title('Confusion matrix of the model')\n",
    "    plt.ylabel('Disease Category')\n",
    "    plt.show()\n",
    "    listOfAccs.append([accuracy_score(y_pred,y_test),matthews_corrcoef(y_test, y_pred) ,m[0],m[1],m[2],notes])"
   ]
  },
  {
   "cell_type": "code",
   "execution_count": 13,
   "metadata": {},
   "outputs": [],
   "source": [
    "def modelBuilder(model,x,y,test_size=0.2,curve=False,tunning=False,hyper=None,roc=False,notes=None):\n",
    "    x_train, x_test, y_train, y_test = train_test_split(x, y, test_size=test_size,random_state=42)\n",
    "    # Creating pipline to transform and build the model\n",
    "    if tunning:\n",
    "        pipe = Pipeline([('scaler', StandardScaler()), ('model', GridSearchCV(model,hyper,cv=3,n_jobs=-1) )])\n",
    "    else:\n",
    "        pipe = Pipeline([('scaler', StandardScaler()), ('model', model)])\n",
    "    # if i want to use search grid\n",
    "\n",
    "    pipe.fit(x_train,y_train)\n",
    "    y_pred=pipe.predict(x_test)\n",
    "    showAcc(pipe,x_train,x_test,y_train,y_test,y_pred,notes)\n",
    "    if (curve==True):\n",
    "        train_sizes_model, train_scores_model, valid_scores_model, *_ =learning_curve(pipe, x_train, y_train,cv=3,\n",
    "                            scoring='accuracy',n_jobs=-1)\n",
    "        fig=plt.figure()\n",
    "        ax=fig.add_axes([0,0,1,1])\n",
    "        ax.scatter(x=train_sizes_model,y= train_scores_model.mean(axis=1), color='b')\n",
    "        ax.scatter(x=train_sizes_model,y=valid_scores_model.mean(axis=1), color='r')\n",
    "        ax.plot(train_sizes_model,train_scores_model.mean(axis=1), color='b')\n",
    "        ax.plot(train_sizes_model,valid_scores_model.mean(axis=1), color='r')\n",
    "        ax.set_xlabel('Data Range')\n",
    "        ax.set_ylabel('Accuracy')\n",
    "        ax.set_title('Learning Curve')\n",
    "        plt.show()\n",
    "    return pipe"
   ]
  },
  {
   "cell_type": "code",
   "execution_count": 14,
   "metadata": {},
   "outputs": [
    {
     "name": "stdout",
     "output_type": "stream",
     "text": [
      "ACC of model: 0.8898\n",
      "KFold Acc : 0.9427  \n",
      "Matthews_Corrcoef Accuracy 0.5630\n",
      "balanced_accuracy_score 0.5000\n",
      "Precision : 0.6368 Recall : 0.5000 Fscore : 0.5436\n"
     ]
    },
    {
     "data": {
      "image/png": "[encoded data removed]",
      "text/plain": [
       "<Figure size 432x288 with 2 Axes>"
      ]
     },
     "metadata": {
      "needs_background": "light"
     },
     "output_type": "display_data"
    },
    {
     "data": {
      "image/png": "[encoded data removed]",
      "text/plain": [
       "<Figure size 432x288 with 1 Axes>"
      ]
     },
     "metadata": {
      "needs_background": "light"
     },
     "output_type": "display_data"
    }
   ],
   "source": [
    "## Traning a model with the current data to check the initial accuarcy\n",
    "DS=Dataset.copy()\n",
    "DS=DS.dropna()\n",
    "x_Dataset=DS.iloc[:,1:]\n",
    "y_Dataset=DS.iloc[:,:1]\n",
    "y_Dataset=y_Dataset.values.ravel()\n",
    "RF=RandomForestClassifier(n_estimators=100,random_state=42)\n",
    "FirstRF=modelBuilder(RF,x_Dataset,y_Dataset,curve=True,notes='First Model')"
   ]
  },
  {
   "cell_type": "markdown",
   "metadata": {},
   "source": [
    "### First impression (Data problems)\n",
    "**<li>As shown that the missing data are from minority classes, So we can't drop the rows\n",
    "    ,And the correlation between missing features and Category is high , so the missing data can not be ignored</li>**\n",
    "**<li>Data is not balanced , so it cause some problems such as over fitting and high accuracy because of the majority class</li>**\n",
    "**<li>As mentioned , imbalanced data acc is misleading ,so Recall(true negative rate),precision and f1 will be more effective</li>**"
   ]
  },
  {
   "cell_type": "markdown",
   "metadata": {},
   "source": [
    "## Solving Missing Data \n",
    "**Missing data will be predicted using Random forest regerssor**"
   ]
  },
  {
   "cell_type": "code",
   "execution_count": 15,
   "metadata": {},
   "outputs": [
    {
     "data": {
      "text/plain": [
       "Category     0\n",
       "Age          0\n",
       "Sex          0\n",
       "ALB          1\n",
       "ALP         18\n",
       "ALT          1\n",
       "AST          0\n",
       "BIL          0\n",
       "CHE          0\n",
       "CHOL        10\n",
       "CREA         0\n",
       "GGT          0\n",
       "PROT         1\n",
       "dtype: int64"
      ]
     },
     "execution_count": 15,
     "metadata": {},
     "output_type": "execute_result"
    }
   ],
   "source": [
    "fullData=Dataset.copy()\n",
    "fullData.isnull().sum()"
   ]
  },
  {
   "cell_type": "code",
   "execution_count": 16,
   "metadata": {},
   "outputs": [
    {
     "data": {
      "text/plain": [
       "Category     0\n",
       "Age          0\n",
       "Sex          0\n",
       "ALB          0\n",
       "ALP         15\n",
       "ALT          0\n",
       "AST          0\n",
       "BIL          0\n",
       "CHE          0\n",
       "CHOL         0\n",
       "CREA         0\n",
       "GGT          0\n",
       "PROT         0\n",
       "dtype: int64"
      ]
     },
     "execution_count": 16,
     "metadata": {},
     "output_type": "execute_result"
    }
   ],
   "source": [
    "# First we have to drop all nans except ALP nan that we will train the model on \n",
    "# get all nans except ALP \n",
    "ALbNan=fullData[fullData['ALB'].isnull()]\n",
    "AltNan=fullData[fullData['ALT'].isnull()]\n",
    "CholNan=fullData[fullData['CHOL'].isnull()] \n",
    "ProtNan=fullData[fullData['PROT'].isnull()]\n",
    "# Get the indices \n",
    "nanExceptAlp=pd.concat([ALbNan,AltNan,CholNan,ProtNan])\n",
    "nanExceptAlp=nanExceptAlp.index\n",
    "# Then drop them\n",
    "fullData.drop(nanExceptAlp,inplace=True)\n",
    "fullData.isnull().sum()"
   ]
  },
  {
   "cell_type": "code",
   "execution_count": 17,
   "metadata": {},
   "outputs": [],
   "source": [
    "## get the data that will be predicted\n",
    "ALPNAN=fullData[fullData['ALP'].isnull()]\n",
    "fullData=fullData.dropna()"
   ]
  },
  {
   "cell_type": "code",
   "execution_count": 18,
   "metadata": {},
   "outputs": [
    {
     "data": {
      "text/html": [
       "<div>\n",
       "<style scoped>\n",
       "    .dataframe tbody tr th:only-of-type {\n",
       "        vertical-align: middle;\n",
       "    }\n",
       "\n",
       "    .dataframe tbody tr th {\n",
       "        vertical-align: top;\n",
       "    }\n",
       "\n",
       "    .dataframe thead th {\n",
       "        text-align: right;\n",
       "    }\n",
       "</style>\n",
       "<table border=\"1\" class=\"dataframe\">\n",
       "  <thead>\n",
       "    <tr style=\"text-align: right;\">\n",
       "      <th></th>\n",
       "      <th>Category</th>\n",
       "      <th>Age</th>\n",
       "      <th>Sex</th>\n",
       "      <th>ALB</th>\n",
       "      <th>ALT</th>\n",
       "      <th>AST</th>\n",
       "      <th>BIL</th>\n",
       "      <th>CHE</th>\n",
       "      <th>CHOL</th>\n",
       "      <th>CREA</th>\n",
       "      <th>GGT</th>\n",
       "      <th>PROT</th>\n",
       "    </tr>\n",
       "  </thead>\n",
       "  <tbody>\n",
       "    <tr>\n",
       "      <td>317</td>\n",
       "      <td>0</td>\n",
       "      <td>77</td>\n",
       "      <td>1</td>\n",
       "      <td>52.2</td>\n",
       "      <td>12.0</td>\n",
       "      <td>23.5</td>\n",
       "      <td>10.9</td>\n",
       "      <td>5.51</td>\n",
       "      <td>4.41</td>\n",
       "      <td>103.0</td>\n",
       "      <td>25.8</td>\n",
       "      <td>67.2</td>\n",
       "    </tr>\n",
       "    <tr>\n",
       "      <td>76</td>\n",
       "      <td>0</td>\n",
       "      <td>38</td>\n",
       "      <td>1</td>\n",
       "      <td>42.0</td>\n",
       "      <td>34.8</td>\n",
       "      <td>42.2</td>\n",
       "      <td>3.3</td>\n",
       "      <td>6.10</td>\n",
       "      <td>4.74</td>\n",
       "      <td>96.0</td>\n",
       "      <td>14.6</td>\n",
       "      <td>66.7</td>\n",
       "    </tr>\n",
       "    <tr>\n",
       "      <td>535</td>\n",
       "      <td>1</td>\n",
       "      <td>49</td>\n",
       "      <td>1</td>\n",
       "      <td>21.6</td>\n",
       "      <td>9.5</td>\n",
       "      <td>10.6</td>\n",
       "      <td>2.4</td>\n",
       "      <td>3.75</td>\n",
       "      <td>3.01</td>\n",
       "      <td>64.0</td>\n",
       "      <td>38.9</td>\n",
       "      <td>44.8</td>\n",
       "    </tr>\n",
       "    <tr>\n",
       "      <td>389</td>\n",
       "      <td>0</td>\n",
       "      <td>44</td>\n",
       "      <td>0</td>\n",
       "      <td>45.6</td>\n",
       "      <td>21.0</td>\n",
       "      <td>19.1</td>\n",
       "      <td>3.7</td>\n",
       "      <td>10.36</td>\n",
       "      <td>6.68</td>\n",
       "      <td>74.0</td>\n",
       "      <td>20.8</td>\n",
       "      <td>74.4</td>\n",
       "    </tr>\n",
       "    <tr>\n",
       "      <td>30</td>\n",
       "      <td>0</td>\n",
       "      <td>34</td>\n",
       "      <td>1</td>\n",
       "      <td>41.8</td>\n",
       "      <td>30.9</td>\n",
       "      <td>35.5</td>\n",
       "      <td>6.1</td>\n",
       "      <td>9.97</td>\n",
       "      <td>5.94</td>\n",
       "      <td>89.0</td>\n",
       "      <td>48.5</td>\n",
       "      <td>71.3</td>\n",
       "    </tr>\n",
       "    <tr>\n",
       "      <td>...</td>\n",
       "      <td>...</td>\n",
       "      <td>...</td>\n",
       "      <td>...</td>\n",
       "      <td>...</td>\n",
       "      <td>...</td>\n",
       "      <td>...</td>\n",
       "      <td>...</td>\n",
       "      <td>...</td>\n",
       "      <td>...</td>\n",
       "      <td>...</td>\n",
       "      <td>...</td>\n",
       "      <td>...</td>\n",
       "    </tr>\n",
       "    <tr>\n",
       "      <td>71</td>\n",
       "      <td>0</td>\n",
       "      <td>38</td>\n",
       "      <td>1</td>\n",
       "      <td>39.9</td>\n",
       "      <td>71.7</td>\n",
       "      <td>43.9</td>\n",
       "      <td>10.4</td>\n",
       "      <td>10.90</td>\n",
       "      <td>7.01</td>\n",
       "      <td>99.0</td>\n",
       "      <td>88.3</td>\n",
       "      <td>73.1</td>\n",
       "    </tr>\n",
       "    <tr>\n",
       "      <td>106</td>\n",
       "      <td>0</td>\n",
       "      <td>41</td>\n",
       "      <td>1</td>\n",
       "      <td>44.7</td>\n",
       "      <td>25.2</td>\n",
       "      <td>20.2</td>\n",
       "      <td>6.3</td>\n",
       "      <td>10.34</td>\n",
       "      <td>4.23</td>\n",
       "      <td>74.0</td>\n",
       "      <td>23.7</td>\n",
       "      <td>72.1</td>\n",
       "    </tr>\n",
       "    <tr>\n",
       "      <td>271</td>\n",
       "      <td>0</td>\n",
       "      <td>59</td>\n",
       "      <td>1</td>\n",
       "      <td>38.4</td>\n",
       "      <td>15.9</td>\n",
       "      <td>27.2</td>\n",
       "      <td>3.0</td>\n",
       "      <td>6.88</td>\n",
       "      <td>6.89</td>\n",
       "      <td>91.0</td>\n",
       "      <td>14.0</td>\n",
       "      <td>64.5</td>\n",
       "    </tr>\n",
       "    <tr>\n",
       "      <td>441</td>\n",
       "      <td>0</td>\n",
       "      <td>49</td>\n",
       "      <td>0</td>\n",
       "      <td>39.3</td>\n",
       "      <td>18.3</td>\n",
       "      <td>15.0</td>\n",
       "      <td>4.8</td>\n",
       "      <td>8.03</td>\n",
       "      <td>4.58</td>\n",
       "      <td>83.0</td>\n",
       "      <td>12.5</td>\n",
       "      <td>74.3</td>\n",
       "    </tr>\n",
       "    <tr>\n",
       "      <td>102</td>\n",
       "      <td>0</td>\n",
       "      <td>41</td>\n",
       "      <td>1</td>\n",
       "      <td>42.3</td>\n",
       "      <td>19.6</td>\n",
       "      <td>18.9</td>\n",
       "      <td>10.9</td>\n",
       "      <td>7.15</td>\n",
       "      <td>3.29</td>\n",
       "      <td>86.0</td>\n",
       "      <td>24.5</td>\n",
       "      <td>76.1</td>\n",
       "    </tr>\n",
       "  </tbody>\n",
       "</table>\n",
       "<p>530 rows × 12 columns</p>\n",
       "</div>"
      ],
      "text/plain": [
       "     Category  Age  Sex   ALB   ALT   AST   BIL    CHE  CHOL   CREA   GGT  \\\n",
       "317         0   77    1  52.2  12.0  23.5  10.9   5.51  4.41  103.0  25.8   \n",
       "76          0   38    1  42.0  34.8  42.2   3.3   6.10  4.74   96.0  14.6   \n",
       "535         1   49    1  21.6   9.5  10.6   2.4   3.75  3.01   64.0  38.9   \n",
       "389         0   44    0  45.6  21.0  19.1   3.7  10.36  6.68   74.0  20.8   \n",
       "30          0   34    1  41.8  30.9  35.5   6.1   9.97  5.94   89.0  48.5   \n",
       "..        ...  ...  ...   ...   ...   ...   ...    ...   ...    ...   ...   \n",
       "71          0   38    1  39.9  71.7  43.9  10.4  10.90  7.01   99.0  88.3   \n",
       "106         0   41    1  44.7  25.2  20.2   6.3  10.34  4.23   74.0  23.7   \n",
       "271         0   59    1  38.4  15.9  27.2   3.0   6.88  6.89   91.0  14.0   \n",
       "441         0   49    0  39.3  18.3  15.0   4.8   8.03  4.58   83.0  12.5   \n",
       "102         0   41    1  42.3  19.6  18.9  10.9   7.15  3.29   86.0  24.5   \n",
       "\n",
       "     PROT  \n",
       "317  67.2  \n",
       "76   66.7  \n",
       "535  44.8  \n",
       "389  74.4  \n",
       "30   71.3  \n",
       "..    ...  \n",
       "71   73.1  \n",
       "106  72.1  \n",
       "271  64.5  \n",
       "441  74.3  \n",
       "102  76.1  \n",
       "\n",
       "[530 rows x 12 columns]"
      ]
     },
     "execution_count": 18,
     "metadata": {},
     "output_type": "execute_result"
    }
   ],
   "source": [
    "# Then split data\n",
    "x=fullData.drop(['ALP'],axis=1)\n",
    "y=fullData['ALP'].values.ravel()\n",
    "x_train, x_test, y_train, y_test = train_test_split(x, y, test_size=0.1,random_state=42)\n",
    "x_train"
   ]
  },
  {
   "cell_type": "code",
   "execution_count": 19,
   "metadata": {},
   "outputs": [
    {
     "data": {
      "text/plain": [
       "GridSearchCV(cv=3,\n",
       "             estimator=Pipeline(steps=[('scaler', StandardScaler()),\n",
       "                                       ('model',\n",
       "                                        RandomForestRegressor(random_state=42))]),\n",
       "             param_grid={'model__max_depth': [2, 5, 10],\n",
       "                         'model__min_samples_leaf': [2, 5, 10],\n",
       "                         'model__n_estimators': [20, 30, 50, 100]})"
      ]
     },
     "execution_count": 19,
     "metadata": {},
     "output_type": "execute_result"
    }
   ],
   "source": [
    "# Then building pipe line and perform fine tunning\n",
    "pipeline=Pipeline([('scaler', StandardScaler()), ('model',  RandomForestRegressor(random_state = 42))])\n",
    "hyperparameters = { 'model__n_estimators': [20, 30, 50,100],\n",
    "                    'model__max_depth': [2, 5,10],\n",
    "                    'model__min_samples_leaf': [2, 5,10]\n",
    "                  }\n",
    "Regerssor= GridSearchCV(pipeline, hyperparameters, cv = 3)\n",
    "Regerssor.fit(x_train, y_train)"
   ]
  },
  {
   "cell_type": "code",
   "execution_count": 20,
   "metadata": {},
   "outputs": [
    {
     "data": {
      "text/plain": [
       "{'model__max_depth': 10,\n",
       " 'model__min_samples_leaf': 5,\n",
       " 'model__n_estimators': 50}"
      ]
     },
     "execution_count": 20,
     "metadata": {},
     "output_type": "execute_result"
    }
   ],
   "source": [
    "# Best parms of the regressos is \n",
    "Regerssor.best_params_"
   ]
  },
  {
   "cell_type": "code",
   "execution_count": 21,
   "metadata": {},
   "outputs": [
    {
     "name": "stdout",
     "output_type": "stream",
     "text": [
      "15.8574138160231\n"
     ]
    }
   ],
   "source": [
    "# RMSE \n",
    "y_pred=Regerssor.predict(x_test)\n",
    "rmse=print(np.sqrt(mean_squared_error(y_pred, y_test)))"
   ]
  },
  {
   "cell_type": "code",
   "execution_count": 22,
   "metadata": {},
   "outputs": [
    {
     "data": {
      "text/plain": [
       "array([40.24921055, 39.65474733, 40.46167174, 47.0106767 , 43.58017536,\n",
       "       43.40207096, 55.64447649, 50.24697648, 43.86038309, 52.29001906,\n",
       "       48.38405786, 52.24577516, 57.7748291 , 62.05195967, 48.53778834])"
      ]
     },
     "execution_count": 22,
     "metadata": {},
     "output_type": "execute_result"
    }
   ],
   "source": [
    "# Getting x of rows to predict ALP\n",
    "missingALP=ALPNAN.drop(['ALP'],axis=1)\n",
    "ALPResults=Regerssor.predict(missingALP)\n",
    "ALPResults"
   ]
  },
  {
   "cell_type": "code",
   "execution_count": 23,
   "metadata": {},
   "outputs": [
    {
     "data": {
      "text/html": [
       "<div>\n",
       "<style scoped>\n",
       "    .dataframe tbody tr th:only-of-type {\n",
       "        vertical-align: middle;\n",
       "    }\n",
       "\n",
       "    .dataframe tbody tr th {\n",
       "        vertical-align: top;\n",
       "    }\n",
       "\n",
       "    .dataframe thead th {\n",
       "        text-align: right;\n",
       "    }\n",
       "</style>\n",
       "<table border=\"1\" class=\"dataframe\">\n",
       "  <thead>\n",
       "    <tr style=\"text-align: right;\">\n",
       "      <th></th>\n",
       "      <th>Category</th>\n",
       "      <th>Age</th>\n",
       "      <th>Sex</th>\n",
       "      <th>ALB</th>\n",
       "      <th>ALP</th>\n",
       "      <th>ALT</th>\n",
       "      <th>AST</th>\n",
       "      <th>BIL</th>\n",
       "      <th>CHE</th>\n",
       "      <th>CHOL</th>\n",
       "      <th>CREA</th>\n",
       "      <th>GGT</th>\n",
       "      <th>PROT</th>\n",
       "    </tr>\n",
       "  </thead>\n",
       "  <tbody>\n",
       "    <tr>\n",
       "      <td>541</td>\n",
       "      <td>2</td>\n",
       "      <td>19</td>\n",
       "      <td>1</td>\n",
       "      <td>41.0</td>\n",
       "      <td>40.249211</td>\n",
       "      <td>87.0</td>\n",
       "      <td>67.0</td>\n",
       "      <td>12.0</td>\n",
       "      <td>7.55</td>\n",
       "      <td>3.9</td>\n",
       "      <td>62.0</td>\n",
       "      <td>65.0</td>\n",
       "      <td>75.0</td>\n",
       "    </tr>\n",
       "    <tr>\n",
       "      <td>545</td>\n",
       "      <td>2</td>\n",
       "      <td>29</td>\n",
       "      <td>1</td>\n",
       "      <td>49.0</td>\n",
       "      <td>39.654747</td>\n",
       "      <td>53.0</td>\n",
       "      <td>39.0</td>\n",
       "      <td>15.0</td>\n",
       "      <td>8.79</td>\n",
       "      <td>3.6</td>\n",
       "      <td>79.0</td>\n",
       "      <td>37.0</td>\n",
       "      <td>90.0</td>\n",
       "    </tr>\n",
       "    <tr>\n",
       "      <td>546</td>\n",
       "      <td>2</td>\n",
       "      <td>30</td>\n",
       "      <td>1</td>\n",
       "      <td>45.0</td>\n",
       "      <td>40.461672</td>\n",
       "      <td>66.0</td>\n",
       "      <td>45.0</td>\n",
       "      <td>14.0</td>\n",
       "      <td>12.16</td>\n",
       "      <td>6.1</td>\n",
       "      <td>86.0</td>\n",
       "      <td>43.0</td>\n",
       "      <td>77.0</td>\n",
       "    </tr>\n",
       "    <tr>\n",
       "      <td>568</td>\n",
       "      <td>3</td>\n",
       "      <td>49</td>\n",
       "      <td>1</td>\n",
       "      <td>39.0</td>\n",
       "      <td>47.010677</td>\n",
       "      <td>118.0</td>\n",
       "      <td>62.0</td>\n",
       "      <td>10.0</td>\n",
       "      <td>7.28</td>\n",
       "      <td>3.5</td>\n",
       "      <td>72.0</td>\n",
       "      <td>74.0</td>\n",
       "      <td>81.0</td>\n",
       "    </tr>\n",
       "    <tr>\n",
       "      <td>569</td>\n",
       "      <td>3</td>\n",
       "      <td>49</td>\n",
       "      <td>1</td>\n",
       "      <td>46.0</td>\n",
       "      <td>43.580175</td>\n",
       "      <td>114.0</td>\n",
       "      <td>75.0</td>\n",
       "      <td>16.0</td>\n",
       "      <td>10.43</td>\n",
       "      <td>5.2</td>\n",
       "      <td>72.0</td>\n",
       "      <td>59.0</td>\n",
       "      <td>82.0</td>\n",
       "    </tr>\n",
       "    <tr>\n",
       "      <td>570</td>\n",
       "      <td>3</td>\n",
       "      <td>50</td>\n",
       "      <td>1</td>\n",
       "      <td>42.0</td>\n",
       "      <td>43.402071</td>\n",
       "      <td>258.0</td>\n",
       "      <td>106.0</td>\n",
       "      <td>15.0</td>\n",
       "      <td>8.74</td>\n",
       "      <td>4.7</td>\n",
       "      <td>77.0</td>\n",
       "      <td>80.0</td>\n",
       "      <td>84.0</td>\n",
       "    </tr>\n",
       "    <tr>\n",
       "      <td>571</td>\n",
       "      <td>3</td>\n",
       "      <td>53</td>\n",
       "      <td>1</td>\n",
       "      <td>46.0</td>\n",
       "      <td>55.644476</td>\n",
       "      <td>34.0</td>\n",
       "      <td>43.0</td>\n",
       "      <td>14.0</td>\n",
       "      <td>8.77</td>\n",
       "      <td>4.0</td>\n",
       "      <td>112.0</td>\n",
       "      <td>203.0</td>\n",
       "      <td>76.0</td>\n",
       "    </tr>\n",
       "    <tr>\n",
       "      <td>576</td>\n",
       "      <td>3</td>\n",
       "      <td>71</td>\n",
       "      <td>1</td>\n",
       "      <td>37.0</td>\n",
       "      <td>50.246976</td>\n",
       "      <td>130.0</td>\n",
       "      <td>90.0</td>\n",
       "      <td>15.0</td>\n",
       "      <td>9.92</td>\n",
       "      <td>4.7</td>\n",
       "      <td>79.0</td>\n",
       "      <td>77.0</td>\n",
       "      <td>76.0</td>\n",
       "    </tr>\n",
       "    <tr>\n",
       "      <td>581</td>\n",
       "      <td>3</td>\n",
       "      <td>49</td>\n",
       "      <td>0</td>\n",
       "      <td>39.0</td>\n",
       "      <td>43.860383</td>\n",
       "      <td>46.0</td>\n",
       "      <td>39.0</td>\n",
       "      <td>9.0</td>\n",
       "      <td>10.21</td>\n",
       "      <td>3.1</td>\n",
       "      <td>89.0</td>\n",
       "      <td>53.0</td>\n",
       "      <td>79.0</td>\n",
       "    </tr>\n",
       "    <tr>\n",
       "      <td>582</td>\n",
       "      <td>3</td>\n",
       "      <td>51</td>\n",
       "      <td>0</td>\n",
       "      <td>37.0</td>\n",
       "      <td>52.290019</td>\n",
       "      <td>164.0</td>\n",
       "      <td>70.0</td>\n",
       "      <td>9.0</td>\n",
       "      <td>3.99</td>\n",
       "      <td>4.2</td>\n",
       "      <td>67.0</td>\n",
       "      <td>43.0</td>\n",
       "      <td>72.0</td>\n",
       "    </tr>\n",
       "    <tr>\n",
       "      <td>583</td>\n",
       "      <td>3</td>\n",
       "      <td>56</td>\n",
       "      <td>0</td>\n",
       "      <td>39.0</td>\n",
       "      <td>48.384058</td>\n",
       "      <td>42.0</td>\n",
       "      <td>34.0</td>\n",
       "      <td>10.0</td>\n",
       "      <td>7.75</td>\n",
       "      <td>5.0</td>\n",
       "      <td>80.0</td>\n",
       "      <td>84.0</td>\n",
       "      <td>78.0</td>\n",
       "    </tr>\n",
       "    <tr>\n",
       "      <td>585</td>\n",
       "      <td>4</td>\n",
       "      <td>38</td>\n",
       "      <td>1</td>\n",
       "      <td>44.0</td>\n",
       "      <td>52.245775</td>\n",
       "      <td>94.0</td>\n",
       "      <td>60.0</td>\n",
       "      <td>12.0</td>\n",
       "      <td>4.37</td>\n",
       "      <td>3.2</td>\n",
       "      <td>61.0</td>\n",
       "      <td>99.0</td>\n",
       "      <td>77.0</td>\n",
       "    </tr>\n",
       "    <tr>\n",
       "      <td>592</td>\n",
       "      <td>4</td>\n",
       "      <td>47</td>\n",
       "      <td>1</td>\n",
       "      <td>42.0</td>\n",
       "      <td>57.774829</td>\n",
       "      <td>159.0</td>\n",
       "      <td>102.0</td>\n",
       "      <td>11.0</td>\n",
       "      <td>6.29</td>\n",
       "      <td>5.5</td>\n",
       "      <td>58.0</td>\n",
       "      <td>201.0</td>\n",
       "      <td>79.0</td>\n",
       "    </tr>\n",
       "    <tr>\n",
       "      <td>613</td>\n",
       "      <td>4</td>\n",
       "      <td>46</td>\n",
       "      <td>0</td>\n",
       "      <td>33.0</td>\n",
       "      <td>62.051960</td>\n",
       "      <td>39.0</td>\n",
       "      <td>62.0</td>\n",
       "      <td>20.0</td>\n",
       "      <td>3.56</td>\n",
       "      <td>4.2</td>\n",
       "      <td>52.0</td>\n",
       "      <td>50.0</td>\n",
       "      <td>71.0</td>\n",
       "    </tr>\n",
       "    <tr>\n",
       "      <td>614</td>\n",
       "      <td>4</td>\n",
       "      <td>59</td>\n",
       "      <td>0</td>\n",
       "      <td>36.0</td>\n",
       "      <td>48.537788</td>\n",
       "      <td>100.0</td>\n",
       "      <td>80.0</td>\n",
       "      <td>12.0</td>\n",
       "      <td>9.07</td>\n",
       "      <td>5.3</td>\n",
       "      <td>67.0</td>\n",
       "      <td>34.0</td>\n",
       "      <td>68.0</td>\n",
       "    </tr>\n",
       "  </tbody>\n",
       "</table>\n",
       "</div>"
      ],
      "text/plain": [
       "     Category  Age  Sex   ALB        ALP    ALT    AST   BIL    CHE  CHOL  \\\n",
       "541         2   19    1  41.0  40.249211   87.0   67.0  12.0   7.55   3.9   \n",
       "545         2   29    1  49.0  39.654747   53.0   39.0  15.0   8.79   3.6   \n",
       "546         2   30    1  45.0  40.461672   66.0   45.0  14.0  12.16   6.1   \n",
       "568         3   49    1  39.0  47.010677  118.0   62.0  10.0   7.28   3.5   \n",
       "569         3   49    1  46.0  43.580175  114.0   75.0  16.0  10.43   5.2   \n",
       "570         3   50    1  42.0  43.402071  258.0  106.0  15.0   8.74   4.7   \n",
       "571         3   53    1  46.0  55.644476   34.0   43.0  14.0   8.77   4.0   \n",
       "576         3   71    1  37.0  50.246976  130.0   90.0  15.0   9.92   4.7   \n",
       "581         3   49    0  39.0  43.860383   46.0   39.0   9.0  10.21   3.1   \n",
       "582         3   51    0  37.0  52.290019  164.0   70.0   9.0   3.99   4.2   \n",
       "583         3   56    0  39.0  48.384058   42.0   34.0  10.0   7.75   5.0   \n",
       "585         4   38    1  44.0  52.245775   94.0   60.0  12.0   4.37   3.2   \n",
       "592         4   47    1  42.0  57.774829  159.0  102.0  11.0   6.29   5.5   \n",
       "613         4   46    0  33.0  62.051960   39.0   62.0  20.0   3.56   4.2   \n",
       "614         4   59    0  36.0  48.537788  100.0   80.0  12.0   9.07   5.3   \n",
       "\n",
       "      CREA    GGT  PROT  \n",
       "541   62.0   65.0  75.0  \n",
       "545   79.0   37.0  90.0  \n",
       "546   86.0   43.0  77.0  \n",
       "568   72.0   74.0  81.0  \n",
       "569   72.0   59.0  82.0  \n",
       "570   77.0   80.0  84.0  \n",
       "571  112.0  203.0  76.0  \n",
       "576   79.0   77.0  76.0  \n",
       "581   89.0   53.0  79.0  \n",
       "582   67.0   43.0  72.0  \n",
       "583   80.0   84.0  78.0  \n",
       "585   61.0   99.0  77.0  \n",
       "592   58.0  201.0  79.0  \n",
       "613   52.0   50.0  71.0  \n",
       "614   67.0   34.0  68.0  "
      ]
     },
     "execution_count": 23,
     "metadata": {},
     "output_type": "execute_result"
    }
   ],
   "source": [
    "ALPNAN.loc[ALPNAN['ALP'].isnull(),['ALP']]=ALPResults\n",
    "ALPNAN"
   ]
  },
  {
   "cell_type": "code",
   "execution_count": 24,
   "metadata": {},
   "outputs": [
    {
     "data": {
      "text/html": [
       "<div>\n",
       "<style scoped>\n",
       "    .dataframe tbody tr th:only-of-type {\n",
       "        vertical-align: middle;\n",
       "    }\n",
       "\n",
       "    .dataframe tbody tr th {\n",
       "        vertical-align: top;\n",
       "    }\n",
       "\n",
       "    .dataframe thead th {\n",
       "        text-align: right;\n",
       "    }\n",
       "</style>\n",
       "<table border=\"1\" class=\"dataframe\">\n",
       "  <thead>\n",
       "    <tr style=\"text-align: right;\">\n",
       "      <th></th>\n",
       "      <th>Category</th>\n",
       "      <th>Age</th>\n",
       "      <th>Sex</th>\n",
       "      <th>ALB</th>\n",
       "      <th>ALP</th>\n",
       "      <th>ALT</th>\n",
       "      <th>AST</th>\n",
       "      <th>BIL</th>\n",
       "      <th>CHE</th>\n",
       "      <th>CHOL</th>\n",
       "      <th>CREA</th>\n",
       "      <th>GGT</th>\n",
       "      <th>PROT</th>\n",
       "    </tr>\n",
       "  </thead>\n",
       "  <tbody>\n",
       "    <tr>\n",
       "      <td>0</td>\n",
       "      <td>0</td>\n",
       "      <td>32</td>\n",
       "      <td>1</td>\n",
       "      <td>38.5</td>\n",
       "      <td>52.500000</td>\n",
       "      <td>7.7</td>\n",
       "      <td>22.1</td>\n",
       "      <td>7.5</td>\n",
       "      <td>6.93</td>\n",
       "      <td>3.23</td>\n",
       "      <td>106.0</td>\n",
       "      <td>12.1</td>\n",
       "      <td>69.0</td>\n",
       "    </tr>\n",
       "    <tr>\n",
       "      <td>1</td>\n",
       "      <td>0</td>\n",
       "      <td>32</td>\n",
       "      <td>1</td>\n",
       "      <td>38.5</td>\n",
       "      <td>70.300000</td>\n",
       "      <td>18.0</td>\n",
       "      <td>24.7</td>\n",
       "      <td>3.9</td>\n",
       "      <td>11.17</td>\n",
       "      <td>4.80</td>\n",
       "      <td>74.0</td>\n",
       "      <td>15.6</td>\n",
       "      <td>76.5</td>\n",
       "    </tr>\n",
       "    <tr>\n",
       "      <td>2</td>\n",
       "      <td>0</td>\n",
       "      <td>32</td>\n",
       "      <td>1</td>\n",
       "      <td>46.9</td>\n",
       "      <td>74.700000</td>\n",
       "      <td>36.2</td>\n",
       "      <td>52.6</td>\n",
       "      <td>6.1</td>\n",
       "      <td>8.84</td>\n",
       "      <td>5.20</td>\n",
       "      <td>86.0</td>\n",
       "      <td>33.2</td>\n",
       "      <td>79.3</td>\n",
       "    </tr>\n",
       "    <tr>\n",
       "      <td>3</td>\n",
       "      <td>0</td>\n",
       "      <td>32</td>\n",
       "      <td>1</td>\n",
       "      <td>43.2</td>\n",
       "      <td>52.000000</td>\n",
       "      <td>30.6</td>\n",
       "      <td>22.6</td>\n",
       "      <td>18.9</td>\n",
       "      <td>7.33</td>\n",
       "      <td>4.74</td>\n",
       "      <td>80.0</td>\n",
       "      <td>33.8</td>\n",
       "      <td>75.7</td>\n",
       "    </tr>\n",
       "    <tr>\n",
       "      <td>4</td>\n",
       "      <td>0</td>\n",
       "      <td>32</td>\n",
       "      <td>1</td>\n",
       "      <td>39.2</td>\n",
       "      <td>74.100000</td>\n",
       "      <td>32.6</td>\n",
       "      <td>24.8</td>\n",
       "      <td>9.6</td>\n",
       "      <td>9.15</td>\n",
       "      <td>4.32</td>\n",
       "      <td>76.0</td>\n",
       "      <td>29.9</td>\n",
       "      <td>68.7</td>\n",
       "    </tr>\n",
       "    <tr>\n",
       "      <td>...</td>\n",
       "      <td>...</td>\n",
       "      <td>...</td>\n",
       "      <td>...</td>\n",
       "      <td>...</td>\n",
       "      <td>...</td>\n",
       "      <td>...</td>\n",
       "      <td>...</td>\n",
       "      <td>...</td>\n",
       "      <td>...</td>\n",
       "      <td>...</td>\n",
       "      <td>...</td>\n",
       "      <td>...</td>\n",
       "      <td>...</td>\n",
       "    </tr>\n",
       "    <tr>\n",
       "      <td>583</td>\n",
       "      <td>3</td>\n",
       "      <td>56</td>\n",
       "      <td>0</td>\n",
       "      <td>39.0</td>\n",
       "      <td>48.384058</td>\n",
       "      <td>42.0</td>\n",
       "      <td>34.0</td>\n",
       "      <td>10.0</td>\n",
       "      <td>7.75</td>\n",
       "      <td>5.00</td>\n",
       "      <td>80.0</td>\n",
       "      <td>84.0</td>\n",
       "      <td>78.0</td>\n",
       "    </tr>\n",
       "    <tr>\n",
       "      <td>585</td>\n",
       "      <td>4</td>\n",
       "      <td>38</td>\n",
       "      <td>1</td>\n",
       "      <td>44.0</td>\n",
       "      <td>52.245775</td>\n",
       "      <td>94.0</td>\n",
       "      <td>60.0</td>\n",
       "      <td>12.0</td>\n",
       "      <td>4.37</td>\n",
       "      <td>3.20</td>\n",
       "      <td>61.0</td>\n",
       "      <td>99.0</td>\n",
       "      <td>77.0</td>\n",
       "    </tr>\n",
       "    <tr>\n",
       "      <td>592</td>\n",
       "      <td>4</td>\n",
       "      <td>47</td>\n",
       "      <td>1</td>\n",
       "      <td>42.0</td>\n",
       "      <td>57.774829</td>\n",
       "      <td>159.0</td>\n",
       "      <td>102.0</td>\n",
       "      <td>11.0</td>\n",
       "      <td>6.29</td>\n",
       "      <td>5.50</td>\n",
       "      <td>58.0</td>\n",
       "      <td>201.0</td>\n",
       "      <td>79.0</td>\n",
       "    </tr>\n",
       "    <tr>\n",
       "      <td>613</td>\n",
       "      <td>4</td>\n",
       "      <td>46</td>\n",
       "      <td>0</td>\n",
       "      <td>33.0</td>\n",
       "      <td>62.051960</td>\n",
       "      <td>39.0</td>\n",
       "      <td>62.0</td>\n",
       "      <td>20.0</td>\n",
       "      <td>3.56</td>\n",
       "      <td>4.20</td>\n",
       "      <td>52.0</td>\n",
       "      <td>50.0</td>\n",
       "      <td>71.0</td>\n",
       "    </tr>\n",
       "    <tr>\n",
       "      <td>614</td>\n",
       "      <td>4</td>\n",
       "      <td>59</td>\n",
       "      <td>0</td>\n",
       "      <td>36.0</td>\n",
       "      <td>48.537788</td>\n",
       "      <td>100.0</td>\n",
       "      <td>80.0</td>\n",
       "      <td>12.0</td>\n",
       "      <td>9.07</td>\n",
       "      <td>5.30</td>\n",
       "      <td>67.0</td>\n",
       "      <td>34.0</td>\n",
       "      <td>68.0</td>\n",
       "    </tr>\n",
       "  </tbody>\n",
       "</table>\n",
       "<p>604 rows × 13 columns</p>\n",
       "</div>"
      ],
      "text/plain": [
       "     Category  Age  Sex   ALB        ALP    ALT    AST   BIL    CHE  CHOL  \\\n",
       "0           0   32    1  38.5  52.500000    7.7   22.1   7.5   6.93  3.23   \n",
       "1           0   32    1  38.5  70.300000   18.0   24.7   3.9  11.17  4.80   \n",
       "2           0   32    1  46.9  74.700000   36.2   52.6   6.1   8.84  5.20   \n",
       "3           0   32    1  43.2  52.000000   30.6   22.6  18.9   7.33  4.74   \n",
       "4           0   32    1  39.2  74.100000   32.6   24.8   9.6   9.15  4.32   \n",
       "..        ...  ...  ...   ...        ...    ...    ...   ...    ...   ...   \n",
       "583         3   56    0  39.0  48.384058   42.0   34.0  10.0   7.75  5.00   \n",
       "585         4   38    1  44.0  52.245775   94.0   60.0  12.0   4.37  3.20   \n",
       "592         4   47    1  42.0  57.774829  159.0  102.0  11.0   6.29  5.50   \n",
       "613         4   46    0  33.0  62.051960   39.0   62.0  20.0   3.56  4.20   \n",
       "614         4   59    0  36.0  48.537788  100.0   80.0  12.0   9.07  5.30   \n",
       "\n",
       "      CREA    GGT  PROT  \n",
       "0    106.0   12.1  69.0  \n",
       "1     74.0   15.6  76.5  \n",
       "2     86.0   33.2  79.3  \n",
       "3     80.0   33.8  75.7  \n",
       "4     76.0   29.9  68.7  \n",
       "..     ...    ...   ...  \n",
       "583   80.0   84.0  78.0  \n",
       "585   61.0   99.0  77.0  \n",
       "592   58.0  201.0  79.0  \n",
       "613   52.0   50.0  71.0  \n",
       "614   67.0   34.0  68.0  \n",
       "\n",
       "[604 rows x 13 columns]"
      ]
     },
     "execution_count": 24,
     "metadata": {},
     "output_type": "execute_result"
    }
   ],
   "source": [
    "# mereging rows with predicted ALp with data with no missing values\n",
    "newDS=pd.concat([fullData,ALPNAN])\n",
    "newDS"
   ]
  },
  {
   "cell_type": "code",
   "execution_count": 25,
   "metadata": {},
   "outputs": [
    {
     "name": "stdout",
     "output_type": "stream",
     "text": [
      "ACC of model: 0.9008\n",
      "KFold Acc : 0.9338  \n",
      "Matthews_Corrcoef Accuracy 0.6119\n",
      "balanced_accuracy_score 0.5417\n",
      "Precision : 0.7920 Recall : 0.5417 Fscore : 0.6088\n"
     ]
    },
    {
     "data": {
      "image/png": "[encoded data removed]",
      "text/plain": [
       "<Figure size 432x288 with 2 Axes>"
      ]
     },
     "metadata": {
      "needs_background": "light"
     },
     "output_type": "display_data"
    }
   ],
   "source": [
    "# Building the same model to check the difference \n",
    "x_Dataset=newDS.iloc[:,1:]\n",
    "y_Dataset=newDS.iloc[:,:1]\n",
    "y_Dataset=y_Dataset.values.ravel()\n",
    "RF=RandomForestClassifier(n_estimators=100,random_state=42)\n",
    "RF_after_missing=modelBuilder(RF,x_Dataset,y_Dataset,notes=('Predicted Missing Data'))"
   ]
  },
  {
   "cell_type": "markdown",
   "metadata": {},
   "source": [
    "### Imputation Results\n",
    "**After handling the missing data , it is noted that the accuracy is increased , although kfold acc is slightly reduced , but the acc of imbalanced data is appearing the increasing of precision,recall and F1, so handling data is very effective solution , and it will help in oversampling techniques**"
   ]
  },
  {
   "cell_type": "markdown",
   "metadata": {},
   "source": [
    "## Outliers Detection"
   ]
  },
  {
   "cell_type": "code",
   "execution_count": 26,
   "metadata": {},
   "outputs": [],
   "source": [
    "## First performing outliers detection using Isolation Forest\n",
    "x_Dataset=newDS.iloc[:,1:]\n",
    "y_Dataset=newDS.iloc[:,:1]\n",
    "#Define the outlier\n",
    "outlierDetector =  IsolationForest(n_estimators=100,random_state = 42)\n",
    "result=outlierDetector.fit_predict(x_Dataset)"
   ]
  },
  {
   "cell_type": "code",
   "execution_count": 27,
   "metadata": {},
   "outputs": [
    {
     "data": {
      "image/png": "[encoded data removed]",
      "text/plain": [
       "<Figure size 576x432 with 1 Axes>"
      ]
     },
     "metadata": {
      "needs_background": "light"
     },
     "output_type": "display_data"
    }
   ],
   "source": [
    "#Showing the most detected outliers from which class\n",
    "classes_Of_Outliers=newDS[result==-1]\n",
    "ax=classes_Of_Outliers['Category'].value_counts().plot(kind='bar',color=['red','blue','green','blueviolet','navy'],\n",
    "                                          title='People Category',figsize=(8, 6))\n",
    "\n",
    "plt.xticks(range(5),['Cirrhosis','suspect Blood Donor','Hepatitis','Fibrosis','Blood Donor'])\n",
    "ax.set_xlabel(\"Category\",fontsize=16)\n",
    "ax.set_ylabel(\"Number of peoples\",fontsize=14)\n",
    "plt.show()"
   ]
  },
  {
   "cell_type": "markdown",
   "metadata": {},
   "source": [
    "**It is noted, that most outliers Isolation Forest are from infeceted people , and we cannot remove them , as some classes will disappeared from dataset , so we have to try another outlier detector**"
   ]
  },
  {
   "cell_type": "code",
   "execution_count": 28,
   "metadata": {},
   "outputs": [
    {
     "data": {
      "image/png": "[encoded data removed]",
      "text/plain": [
       "<Figure size 576x432 with 1 Axes>"
      ]
     },
     "metadata": {
      "needs_background": "light"
     },
     "output_type": "display_data"
    }
   ],
   "source": [
    "# Using LocalOutlier Factor\n",
    "outlierDetector2 = LocalOutlierFactor(n_neighbors=2)\n",
    "result=outlierDetector2.fit_predict(x_Dataset)\n",
    "classes_Of_Outliers=newDS[result==-1]\n",
    "ax=classes_Of_Outliers['Category'].value_counts().plot(kind='bar',color=['red','blue','green','blueviolet','navy'],\n",
    "                                          title='People Category',figsize=(8, 6))\n",
    "\n",
    "plt.xticks(range(5),['Blood Donor','Cirrhosis','suspect Blood Donor','Hepatitis','Fibrosis'])\n",
    "ax.set_xlabel(\"Category\",fontsize=16)\n",
    "ax.set_ylabel(\"Number of peoples\",fontsize=14)\n",
    "plt.show()"
   ]
  },
  {
   "cell_type": "markdown",
   "metadata": {},
   "source": [
    "**Outlier detector detected many outliers at majority class , so it will better to delete outliers from majority class**"
   ]
  },
  {
   "cell_type": "code",
   "execution_count": 29,
   "metadata": {},
   "outputs": [],
   "source": [
    "## removing outliers from majoirty class\n",
    "outliers=newDS[result==-1]\n",
    "outlierIndex=outliers[outliers.Category==0].index\n",
    "newDS.drop(outlierIndex,axis=0,inplace=True)"
   ]
  },
  {
   "cell_type": "code",
   "execution_count": 30,
   "metadata": {},
   "outputs": [
    {
     "name": "stdout",
     "output_type": "stream",
     "text": [
      "ACC of model: 0.9402\n",
      "KFold Acc : 0.9187  \n",
      "Matthews_Corrcoef Accuracy 0.7652\n",
      "balanced_accuracy_score 0.6500\n",
      "Precision : 0.8571 Recall : 0.6500 Fscore : 0.7284\n"
     ]
    },
    {
     "data": {
      "image/png": "[encoded data removed]",
      "text/plain": [
       "<Figure size 432x288 with 2 Axes>"
      ]
     },
     "metadata": {
      "needs_background": "light"
     },
     "output_type": "display_data"
    }
   ],
   "source": [
    "# see the influence of outlier removal\n",
    "x_Dataset=newDS.iloc[:,1:]\n",
    "y_Dataset=newDS.iloc[:,:1]\n",
    "y_Dataset=y_Dataset.values.ravel()\n",
    "RF=RandomForestClassifier(n_estimators=100,random_state=42)\n",
    "RF_after_outliers=modelBuilder(RF,x_Dataset,y_Dataset,notes='After removing outliers')"
   ]
  },
  {
   "cell_type": "markdown",
   "metadata": {},
   "source": [
    "**After Removing outliers of majority class the accuracy of classification is increased , and it cloud classify the minority classes better**"
   ]
  },
  {
   "cell_type": "markdown",
   "metadata": {},
   "source": [
    "## Ensembles Model\n",
    "### Since one of bagging models is used (Random forest), it is time to try an boosting Ensemble Model\n",
    "#### <ol> 1.AdaBoost</ol>\n",
    "#### <ol>2.Voting Classifiers</ol>"
   ]
  },
  {
   "cell_type": "markdown",
   "metadata": {},
   "source": [
    "###  AdaBoost"
   ]
  },
  {
   "cell_type": "code",
   "execution_count": 31,
   "metadata": {},
   "outputs": [
    {
     "name": "stdout",
     "output_type": "stream",
     "text": [
      "ACC of model: 0.8974\n",
      "KFold Acc : 0.8973  \n",
      "Matthews_Corrcoef Accuracy 0.5737\n",
      "balanced_accuracy_score 0.4000\n",
      "Precision : 0.4135 Recall : 0.4000 Fscore : 0.3962\n"
     ]
    },
    {
     "name": "stderr",
     "output_type": "stream",
     "text": [
      "C:\\Users\\Mostafa\\Anaconda3\\lib\\site-packages\\sklearn\\metrics\\_classification.py:1221: UndefinedMetricWarning: Precision and F-score are ill-defined and being set to 0.0 in labels with no predicted samples. Use `zero_division` parameter to control this behavior.\n",
      "  _warn_prf(average, modifier, msg_start, len(result))\n"
     ]
    },
    {
     "data": {
      "image/png": "[encoded data removed]",
      "text/plain": [
       "<Figure size 432x288 with 2 Axes>"
      ]
     },
     "metadata": {
      "needs_background": "light"
     },
     "output_type": "display_data"
    }
   ],
   "source": [
    "# First traning adaboost\n",
    "# The appearing warning , as class 2 produce 0 true classifiers\n",
    "model = AdaBoostClassifier(random_state=42)\n",
    "hyper = {'n_estimators':[50,100,200],'learning_rate':[.001,0.01,.1]}\n",
    "adaBoost=modelBuilder(model,x_Dataset,y_Dataset,tunning=True,hyper=hyper,notes='AdaBoost')"
   ]
  },
  {
   "cell_type": "markdown",
   "metadata": {},
   "source": [
    "**Adaboost generates bad results,it is concluded weak learners of decision tress**"
   ]
  },
  {
   "cell_type": "markdown",
   "metadata": {},
   "source": [
    "### Voting Classifiers"
   ]
  },
  {
   "cell_type": "code",
   "execution_count": 32,
   "metadata": {},
   "outputs": [
    {
     "name": "stdout",
     "output_type": "stream",
     "text": [
      "ACC of model: 0.9487\n",
      "KFold Acc : 0.9272  \n",
      "Matthews_Corrcoef Accuracy 0.8020\n",
      "balanced_accuracy_score 0.6750\n",
      "Precision : 0.8422 Recall : 0.6750 Fscore : 0.7327\n"
     ]
    },
    {
     "data": {
      "image/png": "[encoded data removed]",
      "text/plain": [
       "<Figure size 432x288 with 2 Axes>"
      ]
     },
     "metadata": {
      "needs_background": "light"
     },
     "output_type": "display_data"
    }
   ],
   "source": [
    "# Then voting classifiers Using Logistic , Naive Baies and Support Vector Machine \n",
    "estimator1= LogisticRegression(random_state=42)\n",
    "estimator2 = SVC(random_state=42)\n",
    "estimator3 = GaussianNB()\n",
    "model = VotingClassifier(estimators=[('lr', estimator1), ('SVM', estimator2), ('Naive', estimator3)],voting='hard')\n",
    "hyper = {'SVM__kernel':['rbf','linear','poly']}\n",
    "Voting_Classifier=modelBuilder(model,x_Dataset,y_Dataset,tunning=True,hyper=hyper,notes='Voting Classifiers')"
   ]
  },
  {
   "cell_type": "markdown",
   "metadata": {},
   "source": [
    "**Voting outperforms random forest results,these two classifiers produce the best accuracy**"
   ]
  },
  {
   "cell_type": "markdown",
   "metadata": {},
   "source": [
    "### SVM\n",
    "**After building bagging and boosting classifiers, an individual classifier will the chance**"
   ]
  },
  {
   "cell_type": "code",
   "execution_count": 33,
   "metadata": {
    "scrolled": false
   },
   "outputs": [
    {
     "name": "stdout",
     "output_type": "stream",
     "text": [
      "ACC of model: 0.9231\n",
      "KFold Acc : 0.9272  \n",
      "Matthews_Corrcoef Accuracy 0.6948\n",
      "balanced_accuracy_score 0.5750\n",
      "Precision : 0.7704 Recall : 0.5750 Fscore : 0.6378\n"
     ]
    },
    {
     "data": {
      "image/png": "[encoded data removed]",
      "text/plain": [
       "<Figure size 432x288 with 2 Axes>"
      ]
     },
     "metadata": {
      "needs_background": "light"
     },
     "output_type": "display_data"
    }
   ],
   "source": [
    "# SVM will be trained trying to solve overfitting prolbem\n",
    "model= SVC()\n",
    "hyper = {'kernel':['rbf','linear','poly'],'C': [0.1,1, 10, 100]}\n",
    "SVM=modelBuilder(model,x_Dataset,y_Dataset,tunning=True,hyper=hyper,notes='SVM')"
   ]
  },
  {
   "cell_type": "markdown",
   "metadata": {},
   "source": [
    "**Finally after building all these models, the best models are random forest and voting classifiers**"
   ]
  },
  {
   "cell_type": "markdown",
   "metadata": {},
   "source": [
    "## Results\n",
    "### Best model"
   ]
  },
  {
   "cell_type": "code",
   "execution_count": 34,
   "metadata": {},
   "outputs": [
    {
     "name": "stdout",
     "output_type": "stream",
     "text": [
      "ACC of model: 0.9487\n"
     ]
    },
    {
     "name": "stderr",
     "output_type": "stream",
     "text": [
      "C:\\Users\\Mostafa\\Anaconda3\\lib\\site-packages\\sklearn\\linear_model\\_logistic.py:1321: UserWarning: Setting penalty='none' will ignore the C and l1_ratio parameters\n",
      "  \"Setting penalty='none' will ignore the C and l1_ratio \"\n"
     ]
    },
    {
     "name": "stdout",
     "output_type": "stream",
     "text": [
      "KFold Acc : 0.9272  \n",
      "Matthews_Corrcoef Accuracy 0.8020\n",
      "balanced_accuracy_score 0.6750\n",
      "Precision : 0.8422 Recall : 0.6750 Fscore : 0.7327\n"
     ]
    },
    {
     "data": {
      "image/png": "[encoded data removed]",
      "text/plain": [
       "<Figure size 432x288 with 2 Axes>"
      ]
     },
     "metadata": {
      "needs_background": "light"
     },
     "output_type": "display_data"
    },
    {
     "data": {
      "image/png": "[encoded data removed]",
      "text/plain": [
       "<Figure size 432x288 with 1 Axes>"
      ]
     },
     "metadata": {
      "needs_background": "light"
     },
     "output_type": "display_data"
    }
   ],
   "source": [
    "## warning it will took long time ,so paramestrs will saved \n",
    "## Voting Classifiers with funning turnning\n",
    "estimator1= LogisticRegression(random_state=42)\n",
    "estimator2 = SVC(random_state=42)\n",
    "estimator3 = GaussianNB()\n",
    "model = VotingClassifier(estimators=[('lr', estimator1), ('SVM', estimator2), ('Naive', estimator3)],voting='hard')\n",
    "hyper = {'lr__penalty' : ['l2', 'none'],\n",
    "         'lr__solver' : ['newton-cg', 'lbfgs', 'liblinear', 'sag,' 'saga'],\n",
    "         'lr__C' : [0.1,1,2,10],\n",
    "         'SVM__kernel':['rbf','linear','poly'],\n",
    "         'SVM__C':[0.1,1,2,10],\n",
    "         'SVM__gamma': [1,0.1,0.01,0.001],\n",
    "          }\n",
    "Best=Voting_Classifier=modelBuilder(model,x_Dataset,y_Dataset,tunning=True,hyper=hyper,curve=True)"
   ]
  },
  {
   "cell_type": "code",
   "execution_count": 35,
   "metadata": {},
   "outputs": [],
   "source": [
    "params=Best['model'].best_params_"
   ]
  },
  {
   "cell_type": "markdown",
   "metadata": {},
   "source": [
    "## Basis And Variance"
   ]
  },
  {
   "cell_type": "markdown",
   "metadata": {},
   "source": [
    "**Despite the imbalanced data and low number of instances in some classes, but the classifier can classify more than 50% of the minority classes, but the classifier is still overfitting because of the number of instances in majority class is greater than all other classes, so the voting classifier is model with high variance and low basis**"
   ]
  },
  {
   "cell_type": "code",
   "execution_count": 36,
   "metadata": {},
   "outputs": [
    {
     "name": "stderr",
     "output_type": "stream",
     "text": [
      "C:\\Users\\Mostafa\\Anaconda3\\lib\\site-packages\\sklearn\\linear_model\\_sag.py:330: ConvergenceWarning: The max_iter was reached which means the coef_ did not converge\n",
      "  \"the coef_ did not converge\", ConvergenceWarning)\n",
      "C:\\Users\\Mostafa\\Anaconda3\\lib\\site-packages\\sklearn\\linear_model\\_sag.py:330: ConvergenceWarning: The max_iter was reached which means the coef_ did not converge\n",
      "  \"the coef_ did not converge\", ConvergenceWarning)\n"
     ]
    },
    {
     "data": {
      "image/png": "[encoded data removed]",
      "text/plain": [
       "<Figure size 432x288 with 1 Axes>"
      ]
     },
     "metadata": {
      "needs_background": "light"
     },
     "output_type": "display_data"
    }
   ],
   "source": [
    "x_train, x_test, y_train, y_test = train_test_split(x_Dataset, y_Dataset, test_size=0.2,random_state=42)\n",
    "## And variance is the difference between some model predicitions to one model\n",
    "scores=[]\n",
    "solvers=['liblinear', 'newton-cg', 'lbfgs', 'sag', 'saga']\n",
    "for x in solvers:\n",
    "    # Tranining model\n",
    "    estimator1= LogisticRegression(solver=x,random_state=42)\n",
    "    estimator2 = SVC(random_state=42)\n",
    "    estimator3 = GaussianNB()\n",
    "    model = VotingClassifier(estimators=[('lr', estimator1), ('SVM', estimator2), ('Naive', estimator3)],voting='hard')\n",
    "    # Creating pipline to transform and build the model\n",
    "    pipe = Pipeline([('scaler', StandardScaler()), ('model', model)])\n",
    "    pipe.fit(x_train,y_train)\n",
    "    y_pred=pipe.predict(x_test)\n",
    "    scores.append(balanced_accuracy_score(y_test,y_pred))\n",
    "\n",
    "fig = plt.figure()\n",
    "ax = fig.add_axes([0,0,1,1])\n",
    "ax.bar(solvers,scores)\n",
    "plt.show()"
   ]
  },
  {
   "cell_type": "markdown",
   "metadata": {},
   "source": [
    "**So by changing different solvers, the balanced accuracy is almost the same, so based on that the basis is low because model overfitting**"
   ]
  },
  {
   "cell_type": "markdown",
   "metadata": {},
   "source": [
    "## Over-Sampling"
   ]
  },
  {
   "cell_type": "markdown",
   "metadata": {},
   "source": [
    "### Over-sampling technique"
   ]
  },
  {
   "cell_type": "code",
   "execution_count": 37,
   "metadata": {},
   "outputs": [],
   "source": [
    "#Copying the dfata\n",
    "OverDS=newDS.copy()\n",
    "# see the influence of outlier removal\n",
    "x_Dataset=newDS.iloc[:,1:]\n",
    "y_Dataset=newDS.iloc[:,:1]\n",
    "y_Dataset=y_Dataset.values.ravel()"
   ]
  },
  {
   "cell_type": "code",
   "execution_count": 38,
   "metadata": {},
   "outputs": [
    {
     "data": {
      "text/plain": [
       "0    506\n",
       "4     28\n",
       "2     23\n",
       "3     20\n",
       "1      7\n",
       "Name: Category, dtype: int64"
      ]
     },
     "execution_count": 38,
     "metadata": {},
     "output_type": "execute_result"
    }
   ],
   "source": [
    "#Number of classes befor oversampling\n",
    "OverDS['Category'].value_counts()"
   ]
  },
  {
   "cell_type": "code",
   "execution_count": 39,
   "metadata": {},
   "outputs": [],
   "source": [
    "overSampler = RandomOverSampler(random_state=42)\n",
    "overX1,overY1=overSampler.fit_sample(x_Dataset, y_Dataset)"
   ]
  },
  {
   "cell_type": "code",
   "execution_count": 40,
   "metadata": {},
   "outputs": [
    {
     "data": {
      "text/plain": [
       "3    506\n",
       "1    506\n",
       "4    506\n",
       "2    506\n",
       "0    506\n",
       "Name: Category, dtype: int64"
      ]
     },
     "execution_count": 40,
     "metadata": {},
     "output_type": "execute_result"
    }
   ],
   "source": [
    "pd.DataFrame(overY1,columns=['Category'])['Category'].value_counts()"
   ]
  },
  {
   "cell_type": "code",
   "execution_count": 41,
   "metadata": {},
   "outputs": [
    {
     "data": {
      "image/png": "[encoded data removed]",
      "text/plain": [
       "<Figure size 576x432 with 1 Axes>"
      ]
     },
     "metadata": {
      "needs_background": "light"
     },
     "output_type": "display_data"
    }
   ],
   "source": [
    "# First over sampling to make all classes equal\n",
    "# As observed after undersampling , the two classes are balanced \n",
    "ax=pd.DataFrame(overY1,columns=['Category'])['Category'].value_counts().plot(kind='bar',color=['red','blue','green','blueviolet','navy'],\n",
    "                                          title='People Category',figsize=(8, 6))\n",
    "\n",
    "plt.xticks(range(5),['Blood Donor','Cirrhosis','Hepatitis','Fibrosis','suspect Blood Donor'])\n",
    "ax.set_xlabel(\"Category\",fontsize=16)\n",
    "ax.set_ylabel(\"Number of peoples\",fontsize=14)\n",
    "plt.show()"
   ]
  },
  {
   "cell_type": "code",
   "execution_count": 42,
   "metadata": {},
   "outputs": [
    {
     "name": "stdout",
     "output_type": "stream",
     "text": [
      "ACC of model: 0.9071\n",
      "KFold Acc : 0.8814  \n",
      "Matthews_Corrcoef Accuracy 0.8846\n",
      "balanced_accuracy_score 0.9071\n",
      "Precision : 0.9105 Recall : 0.9071 Fscore : 0.9073\n"
     ]
    },
    {
     "data": {
      "image/png": "[encoded data removed]",
      "text/plain": [
       "<Figure size 432x288 with 2 Axes>"
      ]
     },
     "metadata": {
      "needs_background": "light"
     },
     "output_type": "display_data"
    },
    {
     "data": {
      "image/png": "[encoded data removed]",
      "text/plain": [
       "<Figure size 432x288 with 1 Axes>"
      ]
     },
     "metadata": {
      "needs_background": "light"
     },
     "output_type": "display_data"
    }
   ],
   "source": [
    "# Then building the model\n",
    "estimator1= LogisticRegression(random_state=42,C=1,penalty='l2',solver='newton-cg')\n",
    "estimator2 = SVC(random_state=42,C=10,gamma=1,kernel='linear')\n",
    "estimator3 = GaussianNB()\n",
    "model = VotingClassifier(estimators=[('lr', estimator1), ('SVM', estimator2), ('Naive', estimator3)],voting='hard')\n",
    "Best=Voting_Classifier=modelBuilder(model,overX1,overY1,curve=True,notes='Full_OverSampling')"
   ]
  },
  {
   "cell_type": "markdown",
   "metadata": {},
   "source": [
    "**As shown oversampling is very effective , as we can see the over all accuracy is decreased , but recall and other measures for imbalanced data is decreased , overfitting and most problems now are solved, but it will be better to oversampling by different ratios based on each category weight**"
   ]
  },
  {
   "cell_type": "markdown",
   "metadata": {},
   "source": [
    "#### Ratios"
   ]
  },
  {
   "cell_type": "code",
   "execution_count": 43,
   "metadata": {},
   "outputs": [],
   "source": [
    "overSampler = RandomOverSampler(random_state=42,sampling_strategy={0:506,1:300,2:280,3:250,4:150})\n",
    "overX1,overY1=overSampler.fit_sample(x_Dataset, y_Dataset)"
   ]
  },
  {
   "cell_type": "code",
   "execution_count": 44,
   "metadata": {},
   "outputs": [
    {
     "data": {
      "image/png": "[encoded data removed]",
      "text/plain": [
       "<Figure size 576x432 with 1 Axes>"
      ]
     },
     "metadata": {
      "needs_background": "light"
     },
     "output_type": "display_data"
    }
   ],
   "source": [
    "ax=pd.DataFrame(overY1,columns=['Category'])['Category'].value_counts().plot(kind='bar',color=['red','blue','green','blueviolet','navy'],\n",
    "                                          title='People Category',figsize=(8, 6))\n",
    "\n",
    "plt.xticks(range(5),['Blood Donor','Cirrhosis','Hepatitis','Fibrosis','suspect Blood Donor'])\n",
    "ax.set_xlabel(\"Category\",fontsize=16)\n",
    "ax.set_ylabel(\"Number of peoples\",fontsize=14)\n",
    "plt.show()"
   ]
  },
  {
   "cell_type": "code",
   "execution_count": 45,
   "metadata": {},
   "outputs": [
    {
     "name": "stdout",
     "output_type": "stream",
     "text": [
      "ACC of model: 0.9262\n",
      "KFold Acc : 0.9133  \n",
      "Matthews_Corrcoef Accuracy 0.9043\n",
      "balanced_accuracy_score 0.9119\n",
      "Precision : 0.9164 Recall : 0.9119 Fscore : 0.9138\n"
     ]
    },
    {
     "data": {
      "image/png": "[encoded data removed]",
      "text/plain": [
       "<Figure size 432x288 with 2 Axes>"
      ]
     },
     "metadata": {
      "needs_background": "light"
     },
     "output_type": "display_data"
    },
    {
     "data": {
      "image/png": "[encoded data removed]",
      "text/plain": [
       "<Figure size 432x288 with 1 Axes>"
      ]
     },
     "metadata": {
      "needs_background": "light"
     },
     "output_type": "display_data"
    }
   ],
   "source": [
    "# Then building the model\n",
    "estimator1= LogisticRegression(random_state=42,C=1,penalty='l2',solver='newton-cg')\n",
    "estimator2 = SVC(random_state=42,C=10,gamma=1,kernel='linear')\n",
    "estimator3 = GaussianNB()\n",
    "model = VotingClassifier(estimators=[('lr', estimator1), ('SVM', estimator2), ('Naive', estimator3)],voting='hard')\n",
    "Best=Voting_Classifier=modelBuilder(model,overX1,overY1,curve=True,notes='Ratio_OverSampling')"
   ]
  },
  {
   "cell_type": "markdown",
   "metadata": {},
   "source": [
    "**OverSampling by ratios based on number of real data is more effective as accuracy is increased**"
   ]
  },
  {
   "cell_type": "markdown",
   "metadata": {},
   "source": [
    "### Technique 2 (SMOTE)"
   ]
  },
  {
   "cell_type": "code",
   "execution_count": 46,
   "metadata": {},
   "outputs": [],
   "source": [
    "#Copying the dfata\n",
    "OverDS=newDS.copy()\n",
    "# see the influence of outlier removal\n",
    "x_Dataset=newDS.iloc[:,1:]\n",
    "y_Dataset=newDS.iloc[:,:1]\n",
    "y_Dataset=y_Dataset.values.ravel()"
   ]
  },
  {
   "cell_type": "code",
   "execution_count": 47,
   "metadata": {},
   "outputs": [
    {
     "data": {
      "text/plain": [
       "0    506\n",
       "4     28\n",
       "2     23\n",
       "3     20\n",
       "1      7\n",
       "Name: Category, dtype: int64"
      ]
     },
     "execution_count": 47,
     "metadata": {},
     "output_type": "execute_result"
    }
   ],
   "source": [
    "#Number of classes befor oversampling\n",
    "OverDS['Category'].value_counts()"
   ]
  },
  {
   "cell_type": "code",
   "execution_count": 48,
   "metadata": {},
   "outputs": [],
   "source": [
    "# Defining oversample trainer\n",
    "oversample = SMOTE(random_state=42)\n",
    "overX,overY=oversample.fit_sample(x_Dataset, y_Dataset)"
   ]
  },
  {
   "cell_type": "code",
   "execution_count": 49,
   "metadata": {},
   "outputs": [
    {
     "data": {
      "image/png": "[encoded data removed]",
      "text/plain": [
       "<Figure size 576x432 with 1 Axes>"
      ]
     },
     "metadata": {
      "needs_background": "light"
     },
     "output_type": "display_data"
    }
   ],
   "source": [
    "# First over sampling to make all classes equal\n",
    "# As observed after undersampling , the two classes are balanced \n",
    "ax=pd.DataFrame(overY,columns=['Category'])['Category'].value_counts().plot(kind='bar',color=['red','blue','green','blueviolet','navy'],\n",
    "                                          title='People Category',figsize=(8, 6))\n",
    "\n",
    "plt.xticks(range(5),['Blood Donor','Cirrhosis','Hepatitis','Fibrosis','suspect Blood Donor'])\n",
    "ax.set_xlabel(\"Category\",fontsize=16)\n",
    "ax.set_ylabel(\"Number of peoples\",fontsize=14)\n",
    "plt.show()"
   ]
  },
  {
   "cell_type": "code",
   "execution_count": 50,
   "metadata": {},
   "outputs": [
    {
     "name": "stdout",
     "output_type": "stream",
     "text": [
      "ACC of model: 0.9427\n",
      "KFold Acc : 0.9471  \n",
      "Matthews_Corrcoef Accuracy 0.9286\n",
      "balanced_accuracy_score 0.9429\n",
      "Precision : 0.9438 Recall : 0.9429 Fscore : 0.9429\n"
     ]
    },
    {
     "data": {
      "image/png": "[encoded data removed]",
      "text/plain": [
       "<Figure size 432x288 with 2 Axes>"
      ]
     },
     "metadata": {
      "needs_background": "light"
     },
     "output_type": "display_data"
    },
    {
     "data": {
      "image/png": "[encoded data removed]",
      "text/plain": [
       "<Figure size 432x288 with 1 Axes>"
      ]
     },
     "metadata": {
      "needs_background": "light"
     },
     "output_type": "display_data"
    }
   ],
   "source": [
    "# Then buliding the best model with best params\n",
    "estimator1= LogisticRegression(random_state=42,C=1,penalty='l2',solver='newton-cg')\n",
    "estimator2 = SVC(random_state=42,C=10,gamma=1,kernel='linear')\n",
    "estimator3 = GaussianNB()\n",
    "model = VotingClassifier(estimators=[('lr', estimator1), ('SVM', estimator2), ('Naive', estimator3)],voting='hard')\n",
    "Best=Voting_Classifier=modelBuilder(model,overX,overY,curve=True,notes='Full_Smote-Sampling')"
   ]
  },
  {
   "cell_type": "markdown",
   "metadata": {},
   "source": [
    "### Over-sampling by smoth is very effective , as we can see the over all accuracy is increased , overfitting and most problems now are solved, but it will be better to oversampling by different ratios based on each category weight "
   ]
  },
  {
   "cell_type": "code",
   "execution_count": 51,
   "metadata": {},
   "outputs": [
    {
     "data": {
      "image/png": "[encoded data removed]",
      "text/plain": [
       "<Figure size 576x432 with 1 Axes>"
      ]
     },
     "metadata": {
      "needs_background": "light"
     },
     "output_type": "display_data"
    }
   ],
   "source": [
    "# Over sampling by weighted ratios\n",
    "oversample = SMOTE(random_state=42,sampling_strategy={0:506,1:300,2:280,3:250,4:150})\n",
    "overX,overY=oversample.fit_sample(x_Dataset, y_Dataset)\n",
    "# As observed after undersampling , the two classes are balanced \n",
    "ax=pd.DataFrame(overY,columns=['Category'])['Category'].value_counts().plot(kind='bar',color=['red','blue','green','blueviolet','navy'],\n",
    "                                          title='People Category',figsize=(8, 6))\n",
    "\n",
    "plt.xticks(range(5),['Blood Donor','Cirrhosis','Hepatitis','Fibrosis','suspect Blood Donor'])\n",
    "ax.set_xlabel(\"Category\",fontsize=16)\n",
    "ax.set_ylabel(\"Number of peoples\",fontsize=14)\n",
    "plt.show()"
   ]
  },
  {
   "cell_type": "code",
   "execution_count": 52,
   "metadata": {},
   "outputs": [
    {
     "name": "stdout",
     "output_type": "stream",
     "text": [
      "ACC of model: 0.9497\n",
      "KFold Acc : 0.9461  \n",
      "Matthews_Corrcoef Accuracy 0.9348\n",
      "balanced_accuracy_score 0.9369\n",
      "Precision : 0.9443 Recall : 0.9369 Fscore : 0.9401\n"
     ]
    },
    {
     "data": {
      "image/png": "[encoded data removed]",
      "text/plain": [
       "<Figure size 432x288 with 2 Axes>"
      ]
     },
     "metadata": {
      "needs_background": "light"
     },
     "output_type": "display_data"
    },
    {
     "data": {
      "image/png": "[encoded data removed]",
      "text/plain": [
       "<Figure size 432x288 with 1 Axes>"
      ]
     },
     "metadata": {
      "needs_background": "light"
     },
     "output_type": "display_data"
    }
   ],
   "source": [
    "# Then building the model\n",
    "estimator1= LogisticRegression(random_state=42,C=1,penalty='l2',solver='newton-cg')\n",
    "estimator2 = SVC(random_state=42,C=10,gamma=1,kernel='linear')\n",
    "estimator3 = GaussianNB()\n",
    "model = VotingClassifier(estimators=[('lr', estimator1), ('SVM', estimator2), ('Naive', estimator3)],voting='hard')\n",
    "Best=Voting_Classifier=modelBuilder(model,overX,overY,curve=True,notes='Ratio_Smote-Sampling')"
   ]
  },
  {
   "cell_type": "markdown",
   "metadata": {},
   "source": [
    "#### After oversampling by weighted ratios , the accuracy is slightly increased because the dummy data is reduced , so the reached the best accuracy. Since the roc_curve needs probabilities of classification that is not provided from voting, and the dataset is multi class classification , so roc_curve will require different classifier and calculate roc curve for each class"
   ]
  },
  {
   "cell_type": "markdown",
   "metadata": {},
   "source": [
    "## Technique 3 (ADASYN)"
   ]
  },
  {
   "cell_type": "code",
   "execution_count": 53,
   "metadata": {},
   "outputs": [
    {
     "data": {
      "image/png": "[encoded data removed]",
      "text/plain": [
       "<Figure size 576x432 with 1 Axes>"
      ]
     },
     "metadata": {
      "needs_background": "light"
     },
     "output_type": "display_data"
    }
   ],
   "source": [
    "# Over sampling by ADASYN\n",
    "oversample = ADASYN(random_state=42,sampling_strategy={0:506,1:300,2:280,3:250,4:150})\n",
    "overX3,overY3=oversample.fit_sample(x_Dataset, y_Dataset)\n",
    "# As observed after undersampling , the two classes are balanced \n",
    "ax=pd.DataFrame(overY3,columns=['Category'])['Category'].value_counts().plot(kind='bar',color=['red','blue','green','blueviolet','navy'],\n",
    "                                          title='People Category',figsize=(8, 6))\n",
    "\n",
    "plt.xticks(range(5),['Blood Donor','Cirrhosis','Hepatitis','Fibrosis','suspect Blood Donor'])\n",
    "ax.set_xlabel(\"Category\",fontsize=16)\n",
    "ax.set_ylabel(\"Number of peoples\",fontsize=14)\n",
    "plt.show()"
   ]
  },
  {
   "cell_type": "code",
   "execution_count": 54,
   "metadata": {},
   "outputs": [
    {
     "name": "stdout",
     "output_type": "stream",
     "text": [
      "ACC of model: 0.9530\n",
      "KFold Acc : 0.9327  \n",
      "Matthews_Corrcoef Accuracy 0.9398\n",
      "balanced_accuracy_score 0.9472\n",
      "Precision : 0.9499 Recall : 0.9472 Fscore : 0.9469\n"
     ]
    },
    {
     "data": {
      "image/png": "[encoded data removed]",
      "text/plain": [
       "<Figure size 432x288 with 2 Axes>"
      ]
     },
     "metadata": {
      "needs_background": "light"
     },
     "output_type": "display_data"
    },
    {
     "data": {
      "image/png": "[encoded data removed]",
      "text/plain": [
       "<Figure size 432x288 with 1 Axes>"
      ]
     },
     "metadata": {
      "needs_background": "light"
     },
     "output_type": "display_data"
    }
   ],
   "source": [
    "# Then building the model\n",
    "estimator1= LogisticRegression(random_state=42,C=1,penalty='l2',solver='newton-cg')\n",
    "estimator2 = SVC(random_state=42,C=10,gamma=1,kernel='linear')\n",
    "estimator3 = GaussianNB()\n",
    "model = VotingClassifier(estimators=[('lr', estimator1), ('SVM', estimator2), ('Naive', estimator3)],voting='hard')\n",
    "Best=Voting_Classifier=modelBuilder(model,overX3,overY3,curve=True,notes='Ratio_Adasyn-Sampling')\n"
   ]
  },
  {
   "cell_type": "markdown",
   "metadata": {},
   "source": [
    "### Result\n",
    "**Three different techniques were used to oversample (RandomOversampler-Smote-Adasyn).\n",
    "Results shows that oversampling by different weights based on number of each class will provide better results\n",
    "Adasyn outperforms Smote and oversampling \n",
    "Oversampling reduced the overfitting of the model**"
   ]
  },
  {
   "cell_type": "markdown",
   "metadata": {},
   "source": [
    "## Building the best model Piple-Line\n",
    "#### Trying PCA"
   ]
  },
  {
   "cell_type": "code",
   "execution_count": 55,
   "metadata": {},
   "outputs": [
    {
     "name": "stdout",
     "output_type": "stream",
     "text": [
      "ACC of model: 0.9295\n",
      "KFold Acc : 0.9141  \n",
      "Matthews_Corrcoef Accuracy 0.9106\n",
      "balanced_accuracy_score 0.9250\n",
      "Precision : 0.9257 Recall : 0.9250 Fscore : 0.9217\n"
     ]
    },
    {
     "data": {
      "image/png": "[encoded data removed]",
      "text/plain": [
       "<Figure size 432x288 with 2 Axes>"
      ]
     },
     "metadata": {
      "needs_background": "light"
     },
     "output_type": "display_data"
    }
   ],
   "source": [
    "x_train, x_test, y_train, y_test = train_test_split(overX3,overY3,test_size=0.2,random_state=42)\n",
    "# Creating pipline to transform and build the model\n",
    "#Model\n",
    "estimator1= LogisticRegression(random_state=42,C=1,penalty='l2',solver='newton-cg')\n",
    "estimator2 = SVC(random_state=42,C=10,gamma=1,kernel='linear')\n",
    "estimator3 = GaussianNB()\n",
    "model = VotingClassifier(estimators=[('lr', estimator1), ('SVM', estimator2), ('Naive', estimator3)],voting='hard')\n",
    "#Pipeline\n",
    "pipe = Pipeline([('scaler', StandardScaler()), ('PCA',PCA(n_components=0.95)) ,('model', model)])\n",
    "pipe.fit(x_train,y_train)\n",
    "y_pred=pipe.predict(x_test)\n",
    "showAcc(pipe,x_train,x_test,y_train,y_test,y_pred,notes='With Pca')\n"
   ]
  },
  {
   "cell_type": "code",
   "execution_count": 56,
   "metadata": {},
   "outputs": [
    {
     "data": {
      "text/plain": [
       "10"
      ]
     },
     "execution_count": 56,
     "metadata": {},
     "output_type": "execute_result"
    }
   ],
   "source": [
    "pipe['PCA'].n_components_"
   ]
  },
  {
   "cell_type": "markdown",
   "metadata": {},
   "source": [
    "#### PCA reduced the number of features to 10 features instead of 12 and reduces accuracy by 3-4% , so it will better not to use it"
   ]
  },
  {
   "cell_type": "markdown",
   "metadata": {},
   "source": [
    "## Final Model"
   ]
  },
  {
   "cell_type": "code",
   "execution_count": 57,
   "metadata": {},
   "outputs": [
    {
     "name": "stdout",
     "output_type": "stream",
     "text": [
      "ACC of model: 0.9530\n",
      "KFold Acc : 0.9327  \n",
      "Matthews_Corrcoef Accuracy 0.9398\n",
      "balanced_accuracy_score 0.9472\n",
      "Precision : 0.9499 Recall : 0.9472 Fscore : 0.9469\n"
     ]
    },
    {
     "data": {
      "image/png": "[encoded data removed]",
      "text/plain": [
       "<Figure size 432x288 with 2 Axes>"
      ]
     },
     "metadata": {
      "needs_background": "light"
     },
     "output_type": "display_data"
    }
   ],
   "source": [
    "x_train, x_test, y_train, y_test = train_test_split(overX3,overY3,test_size=0.2,random_state=42)\n",
    "# Creating pipline to transform and build the model\n",
    "#Model\n",
    "estimator1= LogisticRegression(random_state=42,C=1,penalty='l2',solver='newton-cg')\n",
    "estimator2 = SVC(random_state=42,C=10,gamma=1,kernel='linear')\n",
    "estimator3 = GaussianNB()\n",
    "model = VotingClassifier(estimators=[('lr', estimator1), ('SVM', estimator2), ('Naive', estimator3)],voting='hard')\n",
    "#Pipeline\n",
    "pipe = Pipeline([('scaler', StandardScaler()),('model', model)])\n",
    "pipe.fit(x_train,y_train)\n",
    "y_pred=pipe.predict(x_test)\n",
    "showAcc(pipe,x_train,x_test,y_train,y_test,y_pred,notes=None)"
   ]
  },
  {
   "cell_type": "code",
   "execution_count": 58,
   "metadata": {},
   "outputs": [
    {
     "data": {
      "image/png": "[encoded data removed]",
      "text/plain": [
       "<Figure size 432x288 with 1 Axes>"
      ]
     },
     "metadata": {
      "needs_background": "light"
     },
     "output_type": "display_data"
    }
   ],
   "source": [
    "train_sizes_model, train_scores_model, valid_scores_model, *_ =learning_curve(pipe, x_train, y_train,cv=3,\n",
    "                            scoring='accuracy',n_jobs=-1)\n",
    "fig=plt.figure()\n",
    "ax=fig.add_axes([0,0,1,1])\n",
    "ax.scatter(x=train_sizes_model,y= train_scores_model.mean(axis=1), color='b')\n",
    "ax.scatter(x=train_sizes_model,y=valid_scores_model.mean(axis=1), color='r')\n",
    "ax.plot(train_sizes_model,train_scores_model.mean(axis=1), color='b')\n",
    "ax.plot(train_sizes_model,valid_scores_model.mean(axis=1), color='r')\n",
    "ax.set_xlabel('Data Range')\n",
    "ax.set_ylabel('Accuracy')\n",
    "ax.set_title('Learning Curve')\n",
    "plt.show()"
   ]
  },
  {
   "cell_type": "markdown",
   "metadata": {},
   "source": [
    "**After solving most of problems such as removing outliers ,predicting missing values and oversampling, The model produced the best performance by ACC 95.3% and Recall 94.72**"
   ]
  },
  {
   "cell_type": "code",
   "execution_count": 59,
   "metadata": {},
   "outputs": [],
   "source": [
    "Total_models=pd.DataFrame(listOfAccs,columns=listOfAccs[0])"
   ]
  },
  {
   "cell_type": "code",
   "execution_count": 60,
   "metadata": {},
   "outputs": [
    {
     "data": {
      "text/html": [
       "<div>\n",
       "<style scoped>\n",
       "    .dataframe tbody tr th:only-of-type {\n",
       "        vertical-align: middle;\n",
       "    }\n",
       "\n",
       "    .dataframe tbody tr th {\n",
       "        vertical-align: top;\n",
       "    }\n",
       "\n",
       "    .dataframe thead th {\n",
       "        text-align: right;\n",
       "    }\n",
       "</style>\n",
       "<table border=\"1\" class=\"dataframe\">\n",
       "  <thead>\n",
       "    <tr style=\"text-align: right;\">\n",
       "      <th></th>\n",
       "      <th>Accuracy</th>\n",
       "      <th>matthews_corrcoef</th>\n",
       "      <th>Precision</th>\n",
       "      <th>Recall</th>\n",
       "      <th>Fscore</th>\n",
       "      <th>Note</th>\n",
       "    </tr>\n",
       "  </thead>\n",
       "  <tbody>\n",
       "    <tr>\n",
       "      <td>1</td>\n",
       "      <td>0.889831</td>\n",
       "      <td>0.563031</td>\n",
       "      <td>0.636792</td>\n",
       "      <td>0.5</td>\n",
       "      <td>0.543647</td>\n",
       "      <td>First Model</td>\n",
       "    </tr>\n",
       "    <tr>\n",
       "      <td>2</td>\n",
       "      <td>0.900826</td>\n",
       "      <td>0.611888</td>\n",
       "      <td>0.792045</td>\n",
       "      <td>0.541667</td>\n",
       "      <td>0.608781</td>\n",
       "      <td>Predicted Missing Data</td>\n",
       "    </tr>\n",
       "    <tr>\n",
       "      <td>3</td>\n",
       "      <td>0.940171</td>\n",
       "      <td>0.765182</td>\n",
       "      <td>0.857051</td>\n",
       "      <td>0.65</td>\n",
       "      <td>0.728407</td>\n",
       "      <td>After removing outliers</td>\n",
       "    </tr>\n",
       "    <tr>\n",
       "      <td>4</td>\n",
       "      <td>0.897436</td>\n",
       "      <td>0.573729</td>\n",
       "      <td>0.413459</td>\n",
       "      <td>0.4</td>\n",
       "      <td>0.396248</td>\n",
       "      <td>AdaBoost</td>\n",
       "    </tr>\n",
       "    <tr>\n",
       "      <td>5</td>\n",
       "      <td>0.948718</td>\n",
       "      <td>0.801974</td>\n",
       "      <td>0.842233</td>\n",
       "      <td>0.675</td>\n",
       "      <td>0.732706</td>\n",
       "      <td>Voting Classifiers</td>\n",
       "    </tr>\n",
       "    <tr>\n",
       "      <td>6</td>\n",
       "      <td>0.923077</td>\n",
       "      <td>0.694785</td>\n",
       "      <td>0.770385</td>\n",
       "      <td>0.575</td>\n",
       "      <td>0.637809</td>\n",
       "      <td>SVM</td>\n",
       "    </tr>\n",
       "    <tr>\n",
       "      <td>8</td>\n",
       "      <td>0.907115</td>\n",
       "      <td>0.884605</td>\n",
       "      <td>0.910453</td>\n",
       "      <td>0.907143</td>\n",
       "      <td>0.90734</td>\n",
       "      <td>Full_OverSampling</td>\n",
       "    </tr>\n",
       "    <tr>\n",
       "      <td>9</td>\n",
       "      <td>0.926174</td>\n",
       "      <td>0.904322</td>\n",
       "      <td>0.916417</td>\n",
       "      <td>0.911922</td>\n",
       "      <td>0.913813</td>\n",
       "      <td>Ratio_OverSampling</td>\n",
       "    </tr>\n",
       "    <tr>\n",
       "      <td>10</td>\n",
       "      <td>0.942688</td>\n",
       "      <td>0.928562</td>\n",
       "      <td>0.943845</td>\n",
       "      <td>0.94285</td>\n",
       "      <td>0.942941</td>\n",
       "      <td>Full_Smote-Sampling</td>\n",
       "    </tr>\n",
       "    <tr>\n",
       "      <td>11</td>\n",
       "      <td>0.949664</td>\n",
       "      <td>0.934758</td>\n",
       "      <td>0.944291</td>\n",
       "      <td>0.936929</td>\n",
       "      <td>0.940118</td>\n",
       "      <td>Ratio_Smote-Sampling</td>\n",
       "    </tr>\n",
       "    <tr>\n",
       "      <td>12</td>\n",
       "      <td>0.95302</td>\n",
       "      <td>0.939769</td>\n",
       "      <td>0.949913</td>\n",
       "      <td>0.947168</td>\n",
       "      <td>0.946944</td>\n",
       "      <td>Ratio_Adasyn-Sampling</td>\n",
       "    </tr>\n",
       "    <tr>\n",
       "      <td>13</td>\n",
       "      <td>0.92953</td>\n",
       "      <td>0.910621</td>\n",
       "      <td>0.925713</td>\n",
       "      <td>0.924987</td>\n",
       "      <td>0.921679</td>\n",
       "      <td>With Pca</td>\n",
       "    </tr>\n",
       "  </tbody>\n",
       "</table>\n",
       "</div>"
      ],
      "text/plain": [
       "    Accuracy matthews_corrcoef Precision    Recall    Fscore  \\\n",
       "1   0.889831          0.563031  0.636792       0.5  0.543647   \n",
       "2   0.900826          0.611888  0.792045  0.541667  0.608781   \n",
       "3   0.940171          0.765182  0.857051      0.65  0.728407   \n",
       "4   0.897436          0.573729  0.413459       0.4  0.396248   \n",
       "5   0.948718          0.801974  0.842233     0.675  0.732706   \n",
       "6   0.923077          0.694785  0.770385     0.575  0.637809   \n",
       "8   0.907115          0.884605  0.910453  0.907143   0.90734   \n",
       "9   0.926174          0.904322  0.916417  0.911922  0.913813   \n",
       "10  0.942688          0.928562  0.943845   0.94285  0.942941   \n",
       "11  0.949664          0.934758  0.944291  0.936929  0.940118   \n",
       "12   0.95302          0.939769  0.949913  0.947168  0.946944   \n",
       "13   0.92953          0.910621  0.925713  0.924987  0.921679   \n",
       "\n",
       "                       Note  \n",
       "1               First Model  \n",
       "2    Predicted Missing Data  \n",
       "3   After removing outliers  \n",
       "4                  AdaBoost  \n",
       "5        Voting Classifiers  \n",
       "6                       SVM  \n",
       "8         Full_OverSampling  \n",
       "9        Ratio_OverSampling  \n",
       "10      Full_Smote-Sampling  \n",
       "11     Ratio_Smote-Sampling  \n",
       "12    Ratio_Adasyn-Sampling  \n",
       "13                 With Pca  "
      ]
     },
     "execution_count": 60,
     "metadata": {},
     "output_type": "execute_result"
    }
   ],
   "source": [
    "Total_models.drop([0,7,14],inplace=True)\n",
    "Total_models"
   ]
  }
 ],
 "metadata": {
  "kernelspec": {
   "display_name": "Python 3",
   "language": "python",
   "name": "python3"
  },
  "language_info": {
   "codemirror_mode": {
    "name": "ipython",
    "version": 3
   },
   "file_extension": ".py",
   "mimetype": "text/x-python",
   "name": "python",
   "nbconvert_exporter": "python",
   "pygments_lexer": "ipython3",
   "version": "3.7.4"
  }
 },
 "nbformat": 4,
 "nbformat_minor": 2
}
